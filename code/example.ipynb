{
 "cells": [
  {
   "cell_type": "code",
   "execution_count": 1,
   "metadata": {},
   "outputs": [],
   "source": [
    "from IPython.display import display\n",
    "\n",
    "from ipywidgets import IntProgress\n",
    "from ipywidgets import SelectMultiple, interact"
   ]
  },
  {
   "cell_type": "markdown",
   "metadata": {},
   "source": [
    "# Objective:\n",
    "\n",
    "Designing a 6 hours ahead water inflow forecast."
   ]
  },
  {
   "cell_type": "code",
   "execution_count": 2,
   "metadata": {},
   "outputs": [],
   "source": [
    "import numpy as np\n",
    "import pandas as pd\n",
    "import seaborn as sns\n",
    "\n",
    "import matplotlib.pyplot as plt\n",
    "\n",
    "from typing import Union\n",
    "\n",
    "from sklearn.preprocessing import PolynomialFeatures\n",
    "from sklearn.linear_model import Ridge\n",
    "from sklearn.feature_selection import RFECV\n",
    "from sklearn.model_selection import TimeSeriesSplit\n",
    "\n",
    "from darts import TimeSeries\n",
    "from darts.utils.missing_values import extract_subseries\n",
    "from darts.models.forecasting.regression_model import RegressionModel\n",
    "from darts.models.forecasting.xgboost import XGBModel"
   ]
  },
  {
   "cell_type": "code",
   "execution_count": 3,
   "metadata": {},
   "outputs": [],
   "source": [
    "target = \"FB20F11_81\"\n",
    "\n",
    "\n",
    "def plot_lagged_variables_comparison(data, var1, var2, lags):\n",
    "    if var2 is None:\n",
    "        var2 = var1\n",
    "\n",
    "    list_of_dfs = []\n",
    "    for lag in lags:\n",
    "        list_of_dfs.append(\n",
    "            pd.DataFrame(\n",
    "                {\n",
    "                    var1: data[var1].values,\n",
    "                    f\"lagged_{var2}\": data[var2].shift(lag).values,\n",
    "                    \"lag_order\": f\"L{lag}\",\n",
    "                }\n",
    "            )\n",
    "        )\n",
    "\n",
    "    sns.lmplot(\n",
    "        pd.concat(list_of_dfs),\n",
    "        x=f\"lagged_{var2}\",\n",
    "        y=var1,\n",
    "        hue=\"lag_order\",\n",
    "        markers=\".\",\n",
    "        scatter_kws=dict(alpha=0.3),\n",
    "    )"
   ]
  },
  {
   "cell_type": "markdown",
   "metadata": {},
   "source": [
    "## Loading data\n",
    "\n",
    "We inmediatly transform the target and precipitation by computing their logarithm. This step will _squeeze_ their values which can help during training."
   ]
  },
  {
   "cell_type": "code",
   "execution_count": 4,
   "metadata": {},
   "outputs": [],
   "source": [
    "data = pd.read_csv(\"../processed/data.csv\", index_col=0, parse_dates=True)\n",
    "data[[target, \"acc_precip\"]] = data[[target, \"acc_precip\"]].apply(np.log1p)"
   ]
  },
  {
   "cell_type": "code",
   "execution_count": 5,
   "metadata": {},
   "outputs": [],
   "source": [
    "ts = TimeSeries.from_dataframe(data, freq=\"h\")"
   ]
  },
  {
   "cell_type": "markdown",
   "metadata": {},
   "source": [
    "- Splitting into continuous timeseries"
   ]
  },
  {
   "cell_type": "code",
   "execution_count": 6,
   "metadata": {},
   "outputs": [
    {
     "name": "stdout",
     "output_type": "stream",
     "text": [
      "Total number of usable samples 6768\n"
     ]
    }
   ],
   "source": [
    "subseries = extract_subseries(ts, mode=\"any\")\n",
    "\n",
    "min_length = 24 * 7  # 7 days\n",
    "subseries = [s for s in subseries if len(s) >= min_length]\n",
    "\n",
    "print(f\"Total number of usable samples {sum([len(s) for s in subseries])}\")"
   ]
  },
  {
   "cell_type": "markdown",
   "metadata": {},
   "source": [
    "- We us a lowpass filter for the rain"
   ]
  },
  {
   "cell_type": "code",
   "execution_count": 7,
   "metadata": {},
   "outputs": [],
   "source": [
    "def lp_filter(x: np.array, alpha: float) -> np.array:\n",
    "    # https://empslocal.ex.ac.uk/people/staff/dbs202/cag/courses/MT37C/course/node102.html\n",
    "    y = np.zeros_like(x)\n",
    "    y[0] = x[0]\n",
    "\n",
    "    for t in range(1, len(x)):\n",
    "        y[t] = alpha * x[t] + (1 - alpha) * y[t - 1]\n",
    "\n",
    "    return y\n",
    "\n",
    "\n",
    "# Alpha was chosen as an approximated mean, after the exploration (in overview.ipynb)\n",
    "alpha = 0.2\n",
    "for series in subseries:\n",
    "    lp_precip = lp_filter(series[\"acc_precip\"].values().ravel(), alpha)\n",
    "    ts_lp = TimeSeries.from_times_and_values(\n",
    "        times=series.time_index, values=lp_precip, columns=\"lp_precip\"\n",
    "    )\n",
    "    series = series.concatenate(ts_lp, axis=1)"
   ]
  },
  {
   "cell_type": "markdown",
   "metadata": {},
   "source": [
    "- Splitting subseries between target and covariates"
   ]
  },
  {
   "cell_type": "code",
   "execution_count": 8,
   "metadata": {},
   "outputs": [],
   "source": [
    "target_subseries = [s[target] for s in subseries]\n",
    "covariates_subseries = [s.drop_columns(target) for s in subseries]"
   ]
  },
  {
   "cell_type": "markdown",
   "metadata": {},
   "source": [
    "- We include polynomial functions of the weather features"
   ]
  },
  {
   "cell_type": "code",
   "execution_count": 9,
   "metadata": {},
   "outputs": [],
   "source": [
    "def generate_poly_ts(subts: TimeSeries):\n",
    "    poly_values = PolynomialFeatures(degree=3, include_bias=False).fit_transform(\n",
    "        subts.values()\n",
    "    )\n",
    "    poly_features = pd.DataFrame(\n",
    "        poly_values,\n",
    "        columns=[f\"feature_{i}\" for i in range(poly_values.shape[1])],\n",
    "        index=subts.time_index,\n",
    "    )\n",
    "\n",
    "    return TimeSeries.from_dataframe(\n",
    "        poly_features,\n",
    "        freq=\"h\",\n",
    "    )\n",
    "\n",
    "\n",
    "poly_covariates = [generate_poly_ts(s) for s in covariates_subseries]"
   ]
  },
  {
   "cell_type": "markdown",
   "metadata": {},
   "source": [
    "- We include datetime features, using one hot encoding"
   ]
  },
  {
   "cell_type": "code",
   "execution_count": 10,
   "metadata": {},
   "outputs": [],
   "source": [
    "def generate_datetime_ts(subts: TimeSeries):\n",
    "    dayofweek = (\n",
    "        pd.get_dummies(subts.time_index.day_of_week)\n",
    "        .rename(columns=lambda x: f\"dow_{x}\")\n",
    "        .set_index(subts.time_index)\n",
    "    )\n",
    "    hours = (\n",
    "        pd.get_dummies(subts.time_index.hour)\n",
    "        .rename(columns=lambda x: f\"hour_{x}\")\n",
    "        .set_index(subts.time_index)\n",
    "    )\n",
    "\n",
    "    datetime_features = dayofweek.merge(\n",
    "        hours, left_index=True, right_index=True\n",
    "    ).astype(int)\n",
    "\n",
    "    return TimeSeries.from_dataframe(datetime_features)\n",
    "\n",
    "\n",
    "datetime_covariates = [generate_datetime_ts(s) for s in subseries]"
   ]
  },
  {
   "cell_type": "code",
   "execution_count": 11,
   "metadata": {},
   "outputs": [],
   "source": [
    "expanded_covariates_subseries = [\n",
    "    dcv.concatenate(pcv, axis=1)\n",
    "    for dcv, pcv in zip(datetime_covariates, poly_covariates)\n",
    "]"
   ]
  },
  {
   "cell_type": "code",
   "execution_count": 12,
   "metadata": {},
   "outputs": [
    {
     "data": {
      "image/png": "[encoded data removed]",
      "text/plain": [
       "<Figure size 1500x300 with 1 Axes>"
      ]
     },
     "metadata": {},
     "output_type": "display_data"
    }
   ],
   "source": [
    "fig, ax = plt.subplots(1, 1, figsize=(15, 3))\n",
    "for s in target_subseries:\n",
    "    s.plot(ax=ax)\n",
    "ax.legend().set_visible(False)"
   ]
  },
  {
   "cell_type": "markdown",
   "metadata": {},
   "source": [
    "## Modelling"
   ]
  },
  {
   "cell_type": "code",
   "execution_count": 13,
   "metadata": {},
   "outputs": [],
   "source": [
    "n_subseries = len(target_subseries)\n",
    "n_features = expanded_covariates_subseries[0].shape[1]\n",
    "\n",
    "slice_train = slice(0, n_subseries - 1)\n",
    "slice_test = -1\n",
    "\n",
    "train = target_subseries[slice_train]\n",
    "test = target_subseries[slice_test]\n",
    "\n",
    "train_future_covariates = expanded_covariates_subseries[slice_train]\n",
    "test_future_covariates = expanded_covariates_subseries[slice_test]\n",
    "\n",
    "output_chunk_length = 6\n",
    "n_lags = 12"
   ]
  },
  {
   "cell_type": "markdown",
   "metadata": {},
   "source": [
    "### Baseline"
   ]
  },
  {
   "cell_type": "code",
   "execution_count": null,
   "metadata": {},
   "outputs": [
    {
     "data": {
      "text/plain": [
       "NaiveMovingAverage(input_chunk_length=72)"
      ]
     },
     "execution_count": 15,
     "metadata": {},
     "output_type": "execute_result"
    }
   ],
   "source": [
    "from darts.models import NaiveMovingAverage\n",
    "\n",
    "naive = NaiveMovingAverage(input_chunk_length=72)\n",
    "naive.fit(train[2])  # Based on the previous plot, I select the longest period"
   ]
  },
  {
   "cell_type": "markdown",
   "metadata": {},
   "source": [
    "### Candidates"
   ]
  },
  {
   "cell_type": "code",
   "execution_count": 16,
   "metadata": {},
   "outputs": [],
   "source": [
    "regmodel = RegressionModel(\n",
    "    model=Ridge(fit_intercept=False, solver=\"lsqr\"),\n",
    "    lags=n_lags,\n",
    "    lags_future_covariates=(n_lags, 1),\n",
    "    output_chunk_length=output_chunk_length,\n",
    ")\n",
    "\n",
    "xgbmodel = XGBModel(\n",
    "    lags=n_lags,\n",
    "    lags_future_covariates=(n_lags, 1),\n",
    "    output_chunk_length=output_chunk_length,\n",
    ")"
   ]
  },
  {
   "cell_type": "code",
   "execution_count": 17,
   "metadata": {},
   "outputs": [
    {
     "name": "stderr",
     "output_type": "stream",
     "text": [
      "Model supports multi-output; a single estimator forecasts all the horizons and components.\n",
      "Model supports multi-output; a single estimator forecasts all the horizons and components.\n"
     ]
    }
   ],
   "source": [
    "class Model:\n",
    "    def __init__(self, model: Union[RegressionModel, XGBModel]):\n",
    "        self.model = model\n",
    "        self.estimator = model.get_estimator(0, 0)\n",
    "\n",
    "\n",
    "ridge = Model(regmodel)\n",
    "xgb = Model(xgbmodel)"
   ]
  },
  {
   "cell_type": "markdown",
   "metadata": {},
   "source": [
    "- In order to select features I run RFECV on every subseries. I will select the features that were selected in more than half of the subseries."
   ]
  },
  {
   "cell_type": "code",
   "execution_count": 31,
   "metadata": {},
   "outputs": [
    {
     "data": {
      "application/vnd.jupyter.widget-view+json": {
       "model_id": "f43e13c92b6a4a4bb910eb521d6077b6",
       "version_major": 2,
       "version_minor": 0
      },
      "text/plain": [
       "IntProgress(value=0, max=7)"
      ]
     },
     "metadata": {},
     "output_type": "display_data"
    },
    {
     "data": {
      "text/plain": [
       "18"
      ]
     },
     "execution_count": 31,
     "metadata": {},
     "output_type": "execute_result"
    }
   ],
   "source": [
    "candidate = xgb\n",
    "\n",
    "pbar = IntProgress(min=0, max=len(train))\n",
    "display(pbar)\n",
    "\n",
    "used_features = np.zeros(n_features)\n",
    "for i, _ in enumerate(train):\n",
    "    selector = RFECV(\n",
    "        candidate.estimator,\n",
    "        step=0.05,\n",
    "        min_features_to_select=5,\n",
    "        cv=TimeSeriesSplit(n_splits=4),\n",
    "    )\n",
    "\n",
    "    # The selection is made taking into account only the next time step\n",
    "    selector = selector.fit(train_future_covariates[i].values(), train[i].values())\n",
    "    used_features += selector.support_.astype(int)\n",
    "    pbar.value += 1\n",
    "\n",
    "# We only select features that have been selected in at least half of the subseries\n",
    "index_relevant_features = [\n",
    "    int(i) for i in np.where(used_features / n_subseries >= 0.5)[0]\n",
    "]\n",
    "\n",
    "selected_feature_names = list(\n",
    "    expanded_covariates_subseries[0].columns[index_relevant_features]\n",
    ")\n",
    "\n",
    "selected_train_future_covariates = [\n",
    "    s[selected_feature_names] for s in train_future_covariates\n",
    "]\n",
    "selected_test_future_covariates = test_future_covariates[selected_feature_names]\n",
    "\n",
    "len(selected_feature_names)"
   ]
  },
  {
   "cell_type": "code",
   "execution_count": 32,
   "metadata": {},
   "outputs": [
    {
     "data": {
      "text/plain": [
       "XGBModel(lags=12, lags_past_covariates=None, lags_future_covariates=(12, 1), output_chunk_length=6, output_chunk_shift=0, add_encoders=None, likelihood=None, quantiles=None, random_state=None, multi_models=True, use_static_covariates=True)"
      ]
     },
     "execution_count": 32,
     "metadata": {},
     "output_type": "execute_result"
    }
   ],
   "source": [
    "candidate.model.fit(\n",
    "    train,\n",
    "    future_covariates=selected_train_future_covariates,\n",
    ")"
   ]
  },
  {
   "cell_type": "markdown",
   "metadata": {},
   "source": [
    "## Testing"
   ]
  },
  {
   "cell_type": "code",
   "execution_count": null,
   "metadata": {},
   "outputs": [
    {
     "data": {
      "application/vnd.jupyter.widget-view+json": {
       "model_id": "d48da22b765d41359984a874ad1a369e",
       "version_major": 2,
       "version_minor": 0
      },
      "text/plain": [
       "interactive(children=(SelectMultiple(description='features', options=('dow_1', 'dow_3', 'dow_5', 'feature_1', …"
      ]
     },
     "metadata": {},
     "output_type": "display_data"
    }
   ],
   "source": [
    "feature_i = SelectMultiple(options=selected_feature_names)\n",
    "\n",
    "\n",
    "@interact(features=feature_i)\n",
    "def plot_forecast(features):\n",
    "    arbitrary_breakpoints = [18, 25, 30, 32, 58]  # test set has 70 points\n",
    "    fig, axes = plt.subplots(\n",
    "        2, len(arbitrary_breakpoints), figsize=(15, 5), sharey=\"row\", sharex=\"col\"\n",
    "    )\n",
    "    for i, n_split in enumerate(arbitrary_breakpoints):\n",
    "        test_in, test_out = test.split_before(n_split)\n",
    "\n",
    "        predicted_inflow = candidate.model.predict(\n",
    "            series=test_in,\n",
    "            n=output_chunk_length,\n",
    "            future_covariates=selected_test_future_covariates,\n",
    "        )\n",
    "\n",
    "        actual_inflow = TimeSeries.from_series(\n",
    "            test_in.append(test_out[predicted_inflow.time_index]).to_series()\n",
    "        ).slice_n_points_before(end_ts=predicted_inflow.time_index[-1], n=14)\n",
    "\n",
    "        predicted_inflow.plot(label=\"pred\", ax=axes[0, i])\n",
    "        actual_inflow.plot(label=\"actual\", ax=axes[0, i])\n",
    "\n",
    "        selected_test_future_covariates[list(features)].slice(\n",
    "            start_ts=actual_inflow.time_index[0], end_ts=actual_inflow.time_index[-1]\n",
    "        ).plot(label=\"pred\", ax=axes[1, i])\n",
    "\n",
    "        axes[0, i].axvline(x=test_out.time_index[0], c=\"red\", linestyle=\"dashed\")\n",
    "        axes[1, i].axvline(x=test_out.time_index[0], c=\"red\", linestyle=\"dashed\")\n",
    "\n",
    "    plt.tight_layout()\n"
   ]
  },
  {
   "cell_type": "code",
   "execution_count": 34,
   "metadata": {},
   "outputs": [
    {
     "data": {
      "application/vnd.jupyter.widget-view+json": {
       "model_id": "ed6315e2d8e2478599130bd1dfc72189",
       "version_major": 2,
       "version_minor": 0
      },
      "text/plain": [
       "IntProgress(value=0, max=2214)"
      ]
     },
     "metadata": {},
     "output_type": "display_data"
    }
   ],
   "source": [
    "n_steps = len(test) - n_lags - output_chunk_length\n",
    "\n",
    "pbar2 = IntProgress(min=0, max=n_steps)\n",
    "display(pbar2)\n",
    "\n",
    "errors = []\n",
    "for t in range(n_steps):\n",
    "    test_in, test_out = test.split_before(t + n_lags)\n",
    "    pred = candidate.model.predict(\n",
    "        output_chunk_length,\n",
    "        series=test_in,\n",
    "        future_covariates=selected_test_future_covariates,\n",
    "    )\n",
    "\n",
    "    actual_pred = np.expm1(pred.values())\n",
    "    actual_values = np.expm1(test_out.slice_intersect(pred).values())\n",
    "\n",
    "    error = actual_values - actual_pred\n",
    "    errors.append(TimeSeries.from_values(values=error, columns=[\"error\"]))\n",
    "\n",
    "    pbar2.value += 1"
   ]
  },
  {
   "cell_type": "code",
   "execution_count": 35,
   "metadata": {},
   "outputs": [
    {
     "data": {
      "text/plain": [
       "<Axes: xlabel='time'>"
      ]
     },
     "execution_count": 35,
     "metadata": {},
     "output_type": "execute_result"
    },
    {
     "data": {
      "image/png": "[encoded data removed]",
      "text/plain": [
       "<Figure size 640x480 with 1 Axes>"
      ]
     },
     "metadata": {},
     "output_type": "display_data"
    }
   ],
   "source": [
    "def rmse(x):\n",
    "    return np.sqrt(np.mean(x**2))\n",
    "\n",
    "\n",
    "pd.concat([e.to_dataframe() for e in errors]).reset_index().groupby(\"time\").apply(\n",
    "    rmse, include_groups=False\n",
    ").plot()"
   ]
  }
 ],
 "metadata": {
  "kernelspec": {
   "display_name": "alt-venv",
   "language": "python",
   "name": "python3"
  },
  "language_info": {
   "codemirror_mode": {
    "name": "ipython",
    "version": 3
   },
   "file_extension": ".py",
   "mimetype": "text/x-python",
   "name": "python",
   "nbconvert_exporter": "python",
   "pygments_lexer": "ipython3",
   "version": "3.12.5"
  }
 },
 "nbformat": 4,
 "nbformat_minor": 2
}
