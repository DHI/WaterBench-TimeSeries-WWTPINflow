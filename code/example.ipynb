{
 "cells": [
  {
   "cell_type": "markdown",
   "metadata": {},
   "source": [
    "# Objective:\n",
    "\n",
    "Designing a 6/12/24 hours ahead water inflow forecast."
   ]
  },
  {
   "cell_type": "code",
   "execution_count": null,
   "metadata": {},
   "outputs": [],
   "source": [
    "import numpy as np\n",
    "import pandas as pd\n",
    "\n",
    "import matplotlib.pyplot as plt\n",
    "\n",
    "from operator import itemgetter\n",
    "from IPython.display import display\n",
    "from ipywidgets import SelectMultiple, interact, IntProgress, IntSlider\n",
    "\n",
    "from typing import Union, Optional, Callable\n",
    "\n",
    "from sklearn.preprocessing import PolynomialFeatures\n",
    "from sklearn.linear_model import Ridge\n",
    "from sklearn.feature_selection import RFECV\n",
    "from sklearn.model_selection import TimeSeriesSplit\n",
    "\n",
    "from darts import TimeSeries\n",
    "from darts.utils.missing_values import extract_subseries\n",
    "from darts.models import NaiveMovingAverage, RegressionModel, XGBModel\n",
    "from darts.models.forecasting.forecasting_model import ForecastingModel"
   ]
  },
  {
   "cell_type": "markdown",
   "metadata": {},
   "source": [
    "## Loading data\n",
    "\n",
    "- We inmediatly transform the target and precipitation by computing their logarithm. This step will _squeeze_ their values which can help during training."
   ]
  },
  {
   "cell_type": "code",
   "execution_count": 2,
   "metadata": {},
   "outputs": [],
   "source": [
    "data = pd.read_csv(\"../processed/data.csv\", index_col=0, parse_dates=True)"
   ]
  },
  {
   "cell_type": "code",
   "execution_count": null,
   "metadata": {},
   "outputs": [],
   "source": [
    "data.rename(columns={\"FB20F11_81\": \"flow\"}, inplace=True)\n",
    "data[[\"flow\", \"acc_precip\"]] = data[[\"flow\", \"acc_precip\"]].apply(np.log1p)\n",
    "\n",
    "# These variables have a big gap at the end, so we discard them\n",
    "data.drop(columns=[\"temp_grass\", \"temp_soil_10\", \"temp_soil_30\"], inplace=True)\n",
    "\n",
    "# For later convenience, we will work with darts TimeSeries\n",
    "ts = TimeSeries.from_dataframe(data, freq=\"h\")"
   ]
  },
  {
   "cell_type": "markdown",
   "metadata": {},
   "source": [
    "- Splitting into continuous timeseries\n",
    "\n",
    "Given the gaps in the datat, we will work with a list of `TimeSeries`. This will require all transformations to be applied to each subseries. "
   ]
  },
  {
   "cell_type": "code",
   "execution_count": 17,
   "metadata": {},
   "outputs": [
    {
     "name": "stdout",
     "output_type": "stream",
     "text": [
      "Total number of usable samples 9304\n"
     ]
    }
   ],
   "source": [
    "subseries = extract_subseries(ts, mode=\"any\")\n",
    "\n",
    "min_length = 24 * 7  # 7 days\n",
    "subseries = [s for s in subseries if len(s) >= min_length]\n",
    "\n",
    "print(f\"Total number of usable samples {sum([len(s) for s in subseries])}\")"
   ]
  },
  {
   "cell_type": "markdown",
   "metadata": {},
   "source": [
    "- The dynamics of observed precipitation are faster than their effects. We smooth the precipitation by using a Holt exponential smoother; the value of the parameter $\\alpha$ is chosen based on the correlation study in the overview [notebook](./overview.ipynb)."
   ]
  },
  {
   "cell_type": "code",
   "execution_count": 18,
   "metadata": {},
   "outputs": [],
   "source": [
    "def holt_smoother(x: np.array, alpha: float) -> np.array:\n",
    "    # https://empslocal.ex.ac.uk/people/staff/dbs202/cag/courses/MT37C/course/node102.html\n",
    "    y = np.zeros_like(x)\n",
    "    y[0] = x[0]\n",
    "\n",
    "    for t in range(1, len(x)):\n",
    "        y[t] = alpha * x[t] + (1 - alpha) * y[t - 1]\n",
    "\n",
    "    return y\n",
    "\n",
    "\n",
    "alpha = 0.2\n",
    "for series in subseries:\n",
    "    lp_precip = holt_smoother(series[\"acc_precip\"].values().ravel(), alpha)\n",
    "    ts_lp = TimeSeries.from_series(\n",
    "        pd.Series(lp_precip, index=series.time_index, name=\"smooth_precip\")\n",
    "    )\n",
    "    series = series.concatenate(ts_lp, axis=1)"
   ]
  },
  {
   "cell_type": "markdown",
   "metadata": {},
   "source": [
    "- Splitting subseries between target and covariates"
   ]
  },
  {
   "cell_type": "code",
   "execution_count": 19,
   "metadata": {},
   "outputs": [],
   "source": [
    "target_subseries = [s[\"flow\"] for s in subseries]\n",
    "covariates_subseries = [s.drop_columns(\"flow\") for s in subseries]"
   ]
  },
  {
   "cell_type": "markdown",
   "metadata": {},
   "source": [
    "- We include polynomial functions of the weather features"
   ]
  },
  {
   "cell_type": "code",
   "execution_count": null,
   "metadata": {},
   "outputs": [],
   "source": [
    "def generate_poly_ts(ts: TimeSeries, degree: int) -> TimeSeries:\n",
    "    poly_values = PolynomialFeatures(degree, include_bias=False).fit_transform(\n",
    "        ts.values()\n",
    "    )\n",
    "    poly_features = pd.DataFrame(\n",
    "        poly_values,\n",
    "        columns=[f\"feature_{i}\" for i in range(poly_values.shape[1])],\n",
    "        index=ts.time_index,\n",
    "    )\n",
    "\n",
    "    return TimeSeries.from_dataframe(\n",
    "        poly_features,\n",
    "        freq=\"h\",\n",
    "    )\n",
    "\n",
    "\n",
    "deg = 3  # polynomial degree\n",
    "poly_covariates = [generate_poly_ts(s, deg) for s in covariates_subseries]"
   ]
  },
  {
   "cell_type": "markdown",
   "metadata": {},
   "source": [
    "- We include datetime features, using one hot encoding"
   ]
  },
  {
   "cell_type": "code",
   "execution_count": 21,
   "metadata": {},
   "outputs": [],
   "source": [
    "def generate_datetime_ts(ts: TimeSeries) -> TimeSeries:\n",
    "    \"\"\"Generates time series of date time features using one hot encoding\"\"\"\n",
    "    dayofweek = (\n",
    "        pd.get_dummies(ts.time_index.day_of_week)\n",
    "        .rename(columns=lambda x: f\"dow_{x}\")\n",
    "        .set_index(ts.time_index)\n",
    "    )\n",
    "    hours = (\n",
    "        pd.get_dummies(ts.time_index.hour)\n",
    "        .rename(columns=lambda x: f\"hour_{x}\")\n",
    "        .set_index(ts.time_index)\n",
    "    )\n",
    "\n",
    "    datetime_features = dayofweek.merge(\n",
    "        hours, left_index=True, right_index=True\n",
    "    ).astype(int)\n",
    "\n",
    "    return TimeSeries.from_dataframe(datetime_features)\n",
    "\n",
    "\n",
    "datetime_covariates = [generate_datetime_ts(s) for s in covariates_subseries]"
   ]
  },
  {
   "cell_type": "code",
   "execution_count": 27,
   "metadata": {},
   "outputs": [
    {
     "data": {
      "text/plain": [
       "(Text(0, 0.5, 'Flow [...]'), Text(0, 0.5, 'Acc. Precip. [...]'))"
      ]
     },
     "execution_count": 27,
     "metadata": {},
     "output_type": "execute_result"
    },
    {
     "data": {
      "image/png": "[encoded data removed]",
      "text/plain": [
       "<Figure size 1500x500 with 2 Axes>"
      ]
     },
     "metadata": {},
     "output_type": "display_data"
    }
   ],
   "source": [
    "fig, axes = plt.subplots(2, 1, figsize=(15, 5), sharex=True)\n",
    "for s1, s2 in zip(target_subseries, covariates_subseries):\n",
    "    s1.plot(ax=axes[0], linewidth=0.8)\n",
    "    s2[\"acc_precip\"].plot(ax=axes[1], linewidth=0.8)\n",
    "axes[0].legend().set_visible(False), axes[1].legend().set_visible(False)\n",
    "axes[0].set_ylabel(\"Flow [...]\"), axes[1].set_ylabel(\"Acc. Precip. [...]\")"
   ]
  },
  {
   "cell_type": "markdown",
   "metadata": {},
   "source": [
    "## Modelling"
   ]
  },
  {
   "cell_type": "code",
   "execution_count": null,
   "metadata": {},
   "outputs": [],
   "source": [
    "n_subseries = len(target_subseries)\n",
    "n_features = poly_covariates[0].n_components + datetime_covariates[0].n_components\n",
    "\n",
    "train_index = list(range(0, 2)) + list(range(3, n_subseries))\n",
    "test_index = [2]\n",
    "\n",
    "assert len(set(test_index).intersection(train_index)) == 0\n",
    "\n",
    "train_getter = itemgetter(*train_index)\n",
    "test_getter = itemgetter(*test_index)"
   ]
  },
  {
   "cell_type": "code",
   "execution_count": 36,
   "metadata": {},
   "outputs": [],
   "source": [
    "train_target = train_getter(target_subseries)\n",
    "test_target = test_getter(target_subseries)\n",
    "\n",
    "train_past_covariates = train_getter(poly_covariates)\n",
    "test_past_covariates = test_getter(poly_covariates)\n",
    "\n",
    "train_future_covariates = train_getter(datetime_covariates)\n",
    "test_future_covariates = test_getter(datetime_covariates)"
   ]
  },
  {
   "cell_type": "code",
   "execution_count": 35,
   "metadata": {},
   "outputs": [],
   "source": [
    "output_chunk_length = 24\n",
    "n_lags = 48"
   ]
  },
  {
   "cell_type": "markdown",
   "metadata": {},
   "source": [
    "### Baseline"
   ]
  },
  {
   "cell_type": "code",
   "execution_count": 39,
   "metadata": {},
   "outputs": [],
   "source": [
    "naive = NaiveMovingAverage(input_chunk_length=n_lags)"
   ]
  },
  {
   "cell_type": "markdown",
   "metadata": {},
   "source": [
    "### Candidates"
   ]
  },
  {
   "cell_type": "code",
   "execution_count": 40,
   "metadata": {},
   "outputs": [],
   "source": [
    "encoders = {\"cyclic\": {\"future\": \"month\"}}\n",
    "\n",
    "regmodel = RegressionModel(\n",
    "    model=Ridge(fit_intercept=False, solver=\"lsqr\"),\n",
    "    lags=n_lags,\n",
    "    lags_future_covariates=(0, 1),\n",
    "    lags_past_covariates=n_lags,\n",
    "    output_chunk_length=output_chunk_length,\n",
    "    add_encoders=encoders,\n",
    ")\n",
    "\n",
    "xgbmodel = XGBModel(\n",
    "    lags=n_lags,\n",
    "    lags_future_covariates=(0, 1),\n",
    "    lags_past_covariates=n_lags,\n",
    "    output_chunk_length=output_chunk_length,\n",
    "    add_encoders=encoders,\n",
    ")"
   ]
  },
  {
   "cell_type": "markdown",
   "metadata": {},
   "source": [
    "We define the `Model` class to better access the model and its estimator (will be used during feature selection)."
   ]
  },
  {
   "cell_type": "code",
   "execution_count": 41,
   "metadata": {},
   "outputs": [
    {
     "name": "stderr",
     "output_type": "stream",
     "text": [
      "Model supports multi-output; a single estimator forecasts all the horizons and components.\n",
      "Model supports multi-output; a single estimator forecasts all the horizons and components.\n"
     ]
    }
   ],
   "source": [
    "class Model:\n",
    "    def __init__(self, model: Union[RegressionModel, XGBModel]):\n",
    "        self.model = model\n",
    "        self.estimator = model.get_estimator(0, 0)\n",
    "\n",
    "\n",
    "ridge = Model(regmodel)\n",
    "xgb = Model(xgbmodel)"
   ]
  },
  {
   "cell_type": "code",
   "execution_count": 42,
   "metadata": {},
   "outputs": [],
   "source": [
    "candidate = xgb"
   ]
  },
  {
   "cell_type": "markdown",
   "metadata": {},
   "source": [
    "#### Feature selection\n",
    "- In order to select features I run RFECV on every subseries. I will select the features that were selected in more than half of the subseries."
   ]
  },
  {
   "cell_type": "code",
   "execution_count": 43,
   "metadata": {},
   "outputs": [
    {
     "data": {
      "application/vnd.jupyter.widget-view+json": {
       "model_id": "8e7997555bb64b12b9e16bde87ececbf",
       "version_major": 2,
       "version_minor": 0
      },
      "text/plain": [
       "IntProgress(value=0, max=6)"
      ]
     },
     "metadata": {},
     "output_type": "display_data"
    },
    {
     "name": "stdout",
     "output_type": "stream",
     "text": [
      "19\n"
     ]
    }
   ],
   "source": [
    "pbar = IntProgress(min=0, max=len(train_target))\n",
    "display(pbar)\n",
    "\n",
    "original_past_components = train_past_covariates[0].components\n",
    "original_future_components = train_future_covariates[0].components\n",
    "\n",
    "used_features = np.zeros(n_features)\n",
    "train_covariates = [\n",
    "    past_cov.concatenate(future_cov, axis=1)\n",
    "    for past_cov, future_cov in zip(train_past_covariates, train_future_covariates)\n",
    "]\n",
    "test_covariates = test_past_covariates.concatenate(test_future_covariates, axis=1)\n",
    "\n",
    "for target_i, covariates_i in zip(train_target, train_covariates):\n",
    "    # Here, the estimator is not taking the past into account\n",
    "    selector = RFECV(\n",
    "        candidate.estimator,\n",
    "        step=0.05,\n",
    "        min_features_to_select=5,\n",
    "        cv=TimeSeriesSplit(n_splits=4),\n",
    "    )\n",
    "\n",
    "    # The selection is made taking into account only the next time step\n",
    "    selector = selector.fit(covariates_i.values(), target_i.values())\n",
    "    used_features += selector.support_.astype(int)\n",
    "    pbar.value += 1\n",
    "\n",
    "# We only select features that have been selected in at least half of the subseries\n",
    "index_relevant_features = [\n",
    "    int(i) for i in np.where(used_features / n_subseries >= 0.5)[0]\n",
    "]\n",
    "\n",
    "selected_components = list(train_covariates[0].components[index_relevant_features])\n",
    "\n",
    "print(len(selected_components))"
   ]
  },
  {
   "cell_type": "code",
   "execution_count": null,
   "metadata": {},
   "outputs": [],
   "source": [
    "past_components = [fn for fn in selected_components if fn in original_past_components]\n",
    "future_components = [\n",
    "    fn for fn in selected_components if fn in original_future_components\n",
    "]\n",
    "\n",
    "if len(past_components) > 0:\n",
    "    selected_components_past_train = [s[past_components] for s in train_covariates]\n",
    "    selected_components_past_test = test_covariates[past_components]\n",
    "else:\n",
    "    selected_components_past_train = selected_components_past_test = None\n",
    "\n",
    "if len(future_components) > 0:\n",
    "    selected_train_future_covariates = [s[future_components] for s in train_covariates]\n",
    "    selected_test_future_covariates = test_covariates[future_components]\n",
    "else:\n",
    "    selected_train_future_covariates = selected_test_future_covariates = None"
   ]
  },
  {
   "cell_type": "code",
   "execution_count": 45,
   "metadata": {},
   "outputs": [
    {
     "name": "stderr",
     "output_type": "stream",
     "text": [
      "Fitting was called with `add_encoders` and suspicion of lazy loading. The encodings/covariates are generated pre-train for all individual targets and loaded into memory. Depending on the size of your data, this can create memory issues. In case this applies, consider setting `add_encoders=None` at model creation.\n"
     ]
    },
    {
     "data": {
      "text/plain": [
       "XGBModel(lags=48, lags_past_covariates=48, lags_future_covariates=(0, 1), output_chunk_length=24, output_chunk_shift=0, add_encoders={'cyclic': {'future': 'month'}}, likelihood=None, quantiles=None, random_state=None, multi_models=True, use_static_covariates=True)"
      ]
     },
     "execution_count": 45,
     "metadata": {},
     "output_type": "execute_result"
    }
   ],
   "source": [
    "candidate.model.fit(\n",
    "    train_target,\n",
    "    past_covariates=selected_components_past_train,\n",
    "    future_covariates=selected_train_future_covariates,\n",
    ")"
   ]
  },
  {
   "cell_type": "code",
   "execution_count": 46,
   "metadata": {},
   "outputs": [
    {
     "data": {
      "text/plain": [
       "492"
      ]
     },
     "execution_count": 46,
     "metadata": {},
     "output_type": "execute_result"
    }
   ],
   "source": [
    "candidate.estimator.n_features_in_"
   ]
  },
  {
   "cell_type": "markdown",
   "metadata": {},
   "source": [
    "Despite the number of selected features is relatively small, once we include their lags, the number of features greatly increases."
   ]
  },
  {
   "cell_type": "markdown",
   "metadata": {},
   "source": [
    "## Testing"
   ]
  },
  {
   "cell_type": "code",
   "execution_count": 48,
   "metadata": {},
   "outputs": [
    {
     "data": {
      "application/vnd.jupyter.widget-view+json": {
       "model_id": "7f4e6cf67ad046eab7a15366b62b4e07",
       "version_major": 2,
       "version_minor": 0
      },
      "text/plain": [
       "interactive(children=(SelectMultiple(description='Features to compare', index=(0,), options=('feature_1', 'fea…"
      ]
     },
     "metadata": {},
     "output_type": "display_data"
    }
   ],
   "source": [
    "feature_i = SelectMultiple(\n",
    "    options=past_components,\n",
    "    value=past_components[:1],\n",
    "    description=\"Features to compare\",\n",
    ")\n",
    "\n",
    "nudger = IntSlider(min=-12, max=12, value=0, description=\"Nudge pred. start\")\n",
    "\n",
    "\n",
    "@interact(features=feature_i, nudge=nudger)\n",
    "def plot_forecast(features, nudge):\n",
    "    arbitrary_breakpoints = [70, 85, 350, 532, 568]  # Needs to be above n_lags\n",
    "    fig, axes = plt.subplots(\n",
    "        2, len(arbitrary_breakpoints), figsize=(20, 5), sharey=\"row\", sharex=\"col\"\n",
    "    )\n",
    "    for i, n_split in enumerate(arbitrary_breakpoints):\n",
    "        time_axis = test_target.slice(\n",
    "            test_target.time_index[n_split - n_lags],\n",
    "            test_target.time_index[n_split + output_chunk_length],\n",
    "        ).time_index\n",
    "        minx = time_axis.min()\n",
    "        maxx = time_axis.max()\n",
    "\n",
    "        test_in, test_out = test_target.split_before(n_split + nudge)\n",
    "\n",
    "        predicted_inflow = candidate.model.predict(\n",
    "            series=test_in,\n",
    "            n=output_chunk_length,\n",
    "            past_covariates=selected_components_past_test,\n",
    "            future_covariates=selected_test_future_covariates,\n",
    "        )\n",
    "\n",
    "        actual_inflow = test_target.slice(start_ts=minx, end_ts=maxx)\n",
    "\n",
    "        predicted_inflow.plot(label=\"predicted\", ax=axes[0, i])\n",
    "        actual_inflow.plot(label=\"actual\", ax=axes[0, i])\n",
    "\n",
    "        selected_components_past_test[list(features)].slice_intersect(\n",
    "            actual_inflow\n",
    "        ).plot(ax=axes[1, i])\n",
    "\n",
    "        axes[0, i].axvline(x=test_out.time_index[0], c=\"red\", linestyle=\"dashed\")\n",
    "        axes[1, i].axvline(x=test_out.time_index[0], c=\"red\", linestyle=\"dashed\")\n",
    "\n",
    "        axes[0, i].set_xlim(minx, maxx)\n",
    "        axes[1, i].set_xlim(minx, maxx)\n",
    "\n",
    "    plt.tight_layout()\n"
   ]
  },
  {
   "cell_type": "markdown",
   "metadata": {},
   "source": [
    "- At every step of the test series, we forecast the next 6/12/24 hours and compare."
   ]
  },
  {
   "cell_type": "code",
   "execution_count": 49,
   "metadata": {},
   "outputs": [],
   "source": [
    "def compute_errors(\n",
    "    ts: TimeSeries,\n",
    "    model: ForecastingModel,\n",
    "    horizon: int,\n",
    "    *,\n",
    "    past_covariates: Optional[TimeSeries] = None,\n",
    "    future_covariates: Optional[TimeSeries] = None,\n",
    "    output_transform: Optional[Callable] = None,\n",
    "    is_naive: bool = False,\n",
    "):\n",
    "    n_lags = abs(model.extreme_lags[0])\n",
    "\n",
    "    n_steps = len(ts) - n_lags - horizon\n",
    "    pbar2 = IntProgress(min=0, max=n_steps)\n",
    "    display(pbar2)\n",
    "\n",
    "    errors = []\n",
    "    for t in range(n_steps):\n",
    "        ts_in, ts_out = ts.split_before(t + n_lags)\n",
    "\n",
    "        kwargs = {}\n",
    "        if model.supports_future_covariates:\n",
    "            kwargs[\"past_covariates\"] = past_covariates\n",
    "            kwargs[\"future_covariates\"] = future_covariates\n",
    "        if model.supports_transferrable_series_prediction:\n",
    "            kwargs[\"series\"] = ts_in\n",
    "        if is_naive:\n",
    "            # Naive models can only _continue_ the series they have been trained on\n",
    "            model.fit(ts_in)\n",
    "\n",
    "        pred = model.predict(\n",
    "            horizon,\n",
    "            **kwargs,\n",
    "        )\n",
    "\n",
    "        actual_values = ts_out.slice_intersect(pred).values()\n",
    "        pred_values = pred.values()\n",
    "        if output_transform is not None:\n",
    "            actual_values = output_transform(actual_values)\n",
    "            pred_values = output_transform(pred_values)\n",
    "\n",
    "        error = actual_values - pred_values\n",
    "        errors.append(TimeSeries.from_values(values=error, columns=[\"error\"]))\n",
    "\n",
    "        pbar2.value += 1\n",
    "    return errors\n",
    "\n",
    "\n",
    "def rmse(x):\n",
    "    return np.sqrt(np.mean(x**2))\n",
    "\n",
    "\n",
    "def metric_by_horizon(errors: np.array, metric: Callable, name: str) -> pd.Series:\n",
    "    errors_df = pd.concat([e.to_dataframe() for e in errors])\n",
    "    errors_agg = (\n",
    "        errors_df.reset_index().groupby(\"time\").apply(metric, include_groups=False)\n",
    "    )\n",
    "    errors_agg.name = name\n",
    "\n",
    "    return errors_agg"
   ]
  },
  {
   "cell_type": "code",
   "execution_count": 50,
   "metadata": {},
   "outputs": [
    {
     "data": {
      "application/vnd.jupyter.widget-view+json": {
       "model_id": "8231d0df89d74410b02454edef9b4931",
       "version_major": 2,
       "version_minor": 0
      },
      "text/plain": [
       "IntProgress(value=0, max=751)"
      ]
     },
     "metadata": {},
     "output_type": "display_data"
    },
    {
     "data": {
      "application/vnd.jupyter.widget-view+json": {
       "model_id": "cbe1b6ff134f45f18d983a738d1fec98",
       "version_major": 2,
       "version_minor": 0
      },
      "text/plain": [
       "IntProgress(value=0, max=751)"
      ]
     },
     "metadata": {},
     "output_type": "display_data"
    }
   ],
   "source": [
    "candidate_errors = compute_errors(\n",
    "    test_target,\n",
    "    candidate.model,\n",
    "    output_chunk_length,\n",
    "    past_covariates=selected_components_past_test,\n",
    "    future_covariates=selected_test_future_covariates,\n",
    "    output_transform=np.expm1,\n",
    ")\n",
    "naive_errors = compute_errors(\n",
    "    test_target, naive, output_chunk_length, output_transform=np.expm1, is_naive=True\n",
    ")"
   ]
  },
  {
   "cell_type": "code",
   "execution_count": 51,
   "metadata": {},
   "outputs": [
    {
     "data": {
      "text/plain": [
       "<Axes: xlabel='time'>"
      ]
     },
     "execution_count": 51,
     "metadata": {},
     "output_type": "execute_result"
    },
    {
     "data": {
      "image/png": "[encoded data removed]",
      "text/plain": [
       "<Figure size 640x480 with 1 Axes>"
      ]
     },
     "metadata": {},
     "output_type": "display_data"
    }
   ],
   "source": [
    "pd.concat(\n",
    "    [\n",
    "        metric_by_horizon(candidate_errors, rmse, \"xgb\"),\n",
    "        metric_by_horizon(naive_errors, rmse, \"naive\"),\n",
    "    ],\n",
    "    axis=1,\n",
    ").plot()"
   ]
  }
 ],
 "metadata": {
  "kernelspec": {
   "display_name": "alt-venv",
   "language": "python",
   "name": "python3"
  },
  "language_info": {
   "codemirror_mode": {
    "name": "ipython",
    "version": 3
   },
   "file_extension": ".py",
   "mimetype": "text/x-python",
   "name": "python",
   "nbconvert_exporter": "python",
   "pygments_lexer": "ipython3",
   "version": "3.12.5"
  }
 },
 "nbformat": 4,
 "nbformat_minor": 2
}
