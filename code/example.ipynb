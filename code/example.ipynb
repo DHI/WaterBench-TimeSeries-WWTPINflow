{
 "cells": [
  {
   "cell_type": "code",
   "execution_count": 125,
   "metadata": {},
   "outputs": [],
   "source": [
    "from IPython.display import display\n",
    "\n",
    "from ipywidgets import IntProgress\n",
    "from ipywidgets import SelectMultiple, interact"
   ]
  },
  {
   "cell_type": "markdown",
   "metadata": {},
   "source": [
    "# Objective:\n",
    "\n",
    "Designing a 6/12/24 hours ahead water inflow forecast."
   ]
  },
  {
   "cell_type": "code",
   "execution_count": 126,
   "metadata": {},
   "outputs": [],
   "source": [
    "import numpy as np\n",
    "import pandas as pd\n",
    "import seaborn as sns\n",
    "\n",
    "import matplotlib.pyplot as plt\n",
    "\n",
    "from typing import Union, Optional, Callable\n",
    "\n",
    "from sklearn.preprocessing import PolynomialFeatures\n",
    "from sklearn.linear_model import Ridge\n",
    "from sklearn.feature_selection import RFECV\n",
    "from sklearn.model_selection import TimeSeriesSplit\n",
    "\n",
    "from darts import TimeSeries\n",
    "from darts.utils.missing_values import extract_subseries\n",
    "from darts.models import NaiveMovingAverage, RegressionModel, XGBModel\n",
    "from darts.models.forecasting.forecasting_model import ForecastingModel\n"
   ]
  },
  {
   "cell_type": "code",
   "execution_count": 127,
   "metadata": {},
   "outputs": [],
   "source": [
    "target = \"FB20F11_81\"\n",
    "\n",
    "\n",
    "def plot_lagged_variables_comparison(data, var1, var2, lags):\n",
    "    if var2 is None:\n",
    "        var2 = var1\n",
    "\n",
    "    list_of_dfs = []\n",
    "    for lag in lags:\n",
    "        list_of_dfs.append(\n",
    "            pd.DataFrame(\n",
    "                {\n",
    "                    var1: data[var1].values,\n",
    "                    f\"lagged_{var2}\": data[var2].shift(lag).values,\n",
    "                    \"lag_order\": f\"L{lag}\",\n",
    "                }\n",
    "            )\n",
    "        )\n",
    "\n",
    "    sns.lmplot(\n",
    "        pd.concat(list_of_dfs),\n",
    "        x=f\"lagged_{var2}\",\n",
    "        y=var1,\n",
    "        hue=\"lag_order\",\n",
    "        markers=\".\",\n",
    "        scatter_kws=dict(alpha=0.3),\n",
    "    )"
   ]
  },
  {
   "cell_type": "markdown",
   "metadata": {},
   "source": [
    "## Loading data\n",
    "\n",
    "We inmediatly transform the target and precipitation by computing their logarithm. This step will _squeeze_ their values which can help during training."
   ]
  },
  {
   "cell_type": "code",
   "execution_count": 128,
   "metadata": {},
   "outputs": [],
   "source": [
    "data = pd.read_csv(\"../processed/data.csv\", index_col=0, parse_dates=True)\n",
    "data[[target, \"acc_precip\"]] = data[[target, \"acc_precip\"]].apply(np.log1p)"
   ]
  },
  {
   "cell_type": "code",
   "execution_count": 129,
   "metadata": {},
   "outputs": [],
   "source": [
    "ts = TimeSeries.from_dataframe(data, freq=\"h\")"
   ]
  },
  {
   "cell_type": "markdown",
   "metadata": {},
   "source": [
    "- Splitting into continuous timeseries"
   ]
  },
  {
   "cell_type": "code",
   "execution_count": 130,
   "metadata": {},
   "outputs": [
    {
     "name": "stdout",
     "output_type": "stream",
     "text": [
      "Total number of usable samples 6768\n"
     ]
    }
   ],
   "source": [
    "subseries = extract_subseries(ts, mode=\"any\")\n",
    "\n",
    "min_length = 24 * 7  # 7 days\n",
    "subseries = [s for s in subseries if len(s) >= min_length]\n",
    "\n",
    "print(f\"Total number of usable samples {sum([len(s) for s in subseries])}\")"
   ]
  },
  {
   "cell_type": "markdown",
   "metadata": {},
   "source": [
    "- We us a lowpass filter for the rain"
   ]
  },
  {
   "cell_type": "code",
   "execution_count": 131,
   "metadata": {},
   "outputs": [],
   "source": [
    "def lp_filter(x: np.array, alpha: float) -> np.array:\n",
    "    # https://empslocal.ex.ac.uk/people/staff/dbs202/cag/courses/MT37C/course/node102.html\n",
    "    y = np.zeros_like(x)\n",
    "    y[0] = x[0]\n",
    "\n",
    "    for t in range(1, len(x)):\n",
    "        y[t] = alpha * x[t] + (1 - alpha) * y[t - 1]\n",
    "\n",
    "    return y\n",
    "\n",
    "\n",
    "# Alpha was chosen as an approximated mean, after the exploration (in overview.ipynb)\n",
    "alpha = 0.2\n",
    "for series in subseries:\n",
    "    lp_precip = lp_filter(series[\"acc_precip\"].values().ravel(), alpha)\n",
    "    ts_lp = TimeSeries.from_times_and_values(\n",
    "        times=series.time_index, values=lp_precip, columns=\"lp_precip\"\n",
    "    )\n",
    "    series = series.concatenate(ts_lp, axis=1)"
   ]
  },
  {
   "cell_type": "markdown",
   "metadata": {},
   "source": [
    "- Splitting subseries between target and covariates"
   ]
  },
  {
   "cell_type": "code",
   "execution_count": 132,
   "metadata": {},
   "outputs": [],
   "source": [
    "target_subseries = [s[target] for s in subseries]\n",
    "covariates_subseries = [s.drop_columns(target) for s in subseries]"
   ]
  },
  {
   "cell_type": "markdown",
   "metadata": {},
   "source": [
    "- We include polynomial functions of the weather features"
   ]
  },
  {
   "cell_type": "code",
   "execution_count": 133,
   "metadata": {},
   "outputs": [],
   "source": [
    "def generate_poly_ts(subts: TimeSeries):\n",
    "    poly_values = PolynomialFeatures(degree=3, include_bias=False).fit_transform(\n",
    "        subts.values()\n",
    "    )\n",
    "    poly_features = pd.DataFrame(\n",
    "        poly_values,\n",
    "        columns=[f\"feature_{i}\" for i in range(poly_values.shape[1])],\n",
    "        index=subts.time_index,\n",
    "    )\n",
    "\n",
    "    return TimeSeries.from_dataframe(\n",
    "        poly_features,\n",
    "        freq=\"h\",\n",
    "    )\n",
    "\n",
    "\n",
    "poly_covariates = [generate_poly_ts(s) for s in covariates_subseries]"
   ]
  },
  {
   "cell_type": "markdown",
   "metadata": {},
   "source": [
    "- We include datetime features, using one hot encoding"
   ]
  },
  {
   "cell_type": "code",
   "execution_count": 134,
   "metadata": {},
   "outputs": [],
   "source": [
    "def generate_datetime_ts(subts: TimeSeries):\n",
    "    dayofweek = (\n",
    "        pd.get_dummies(subts.time_index.day_of_week)\n",
    "        .rename(columns=lambda x: f\"dow_{x}\")\n",
    "        .set_index(subts.time_index)\n",
    "    )\n",
    "    hours = (\n",
    "        pd.get_dummies(subts.time_index.hour)\n",
    "        .rename(columns=lambda x: f\"hour_{x}\")\n",
    "        .set_index(subts.time_index)\n",
    "    )\n",
    "\n",
    "    datetime_features = dayofweek.merge(\n",
    "        hours, left_index=True, right_index=True\n",
    "    ).astype(int)\n",
    "\n",
    "    return TimeSeries.from_dataframe(datetime_features)\n",
    "\n",
    "\n",
    "datetime_covariates = [generate_datetime_ts(s) for s in subseries]"
   ]
  },
  {
   "cell_type": "code",
   "execution_count": 135,
   "metadata": {},
   "outputs": [],
   "source": [
    "expanded_covariates_subseries = [\n",
    "    dcv.concatenate(pcv, axis=1)\n",
    "    for dcv, pcv in zip(datetime_covariates, poly_covariates)\n",
    "]"
   ]
  },
  {
   "cell_type": "code",
   "execution_count": 136,
   "metadata": {},
   "outputs": [
    {
     "data": {
      "image/png": "[encoded data removed]",
      "text/plain": [
       "<Figure size 1500x300 with 1 Axes>"
      ]
     },
     "metadata": {},
     "output_type": "display_data"
    }
   ],
   "source": [
    "fig, ax = plt.subplots(1, 1, figsize=(15, 3))\n",
    "for s in target_subseries:\n",
    "    s.plot(ax=ax)\n",
    "ax.legend().set_visible(False)"
   ]
  },
  {
   "cell_type": "markdown",
   "metadata": {},
   "source": [
    "## Modelling"
   ]
  },
  {
   "cell_type": "code",
   "execution_count": 137,
   "metadata": {},
   "outputs": [],
   "source": [
    "n_subseries = len(target_subseries)\n",
    "n_features = expanded_covariates_subseries[0].shape[1]\n",
    "\n",
    "slice_train = slice(0, n_subseries - 1)\n",
    "slice_test = -1\n",
    "\n",
    "train = target_subseries[slice_train]\n",
    "test = target_subseries[slice_test]\n",
    "\n",
    "train_future_covariates = expanded_covariates_subseries[slice_train]\n",
    "test_future_covariates = expanded_covariates_subseries[slice_test]\n",
    "\n",
    "output_chunk_length = 24\n",
    "n_lags = 48"
   ]
  },
  {
   "cell_type": "markdown",
   "metadata": {},
   "source": [
    "### Baseline"
   ]
  },
  {
   "cell_type": "code",
   "execution_count": 138,
   "metadata": {},
   "outputs": [
    {
     "data": {
      "text/plain": [
       "NaiveMovingAverage(input_chunk_length=48)"
      ]
     },
     "execution_count": 138,
     "metadata": {},
     "output_type": "execute_result"
    }
   ],
   "source": [
    "naive = NaiveMovingAverage(input_chunk_length=n_lags)\n",
    "naive.fit(train[2])  # Based on the previous plot, I select the longest period"
   ]
  },
  {
   "cell_type": "markdown",
   "metadata": {},
   "source": [
    "### Candidates"
   ]
  },
  {
   "cell_type": "code",
   "execution_count": 139,
   "metadata": {},
   "outputs": [],
   "source": [
    "regmodel = RegressionModel(\n",
    "    model=Ridge(fit_intercept=False, solver=\"lsqr\"),\n",
    "    lags=n_lags,\n",
    "    lags_future_covariates=(n_lags, 1),\n",
    "    output_chunk_length=output_chunk_length,\n",
    ")\n",
    "\n",
    "xgbmodel = XGBModel(\n",
    "    lags=n_lags,\n",
    "    lags_future_covariates=(n_lags, 1),\n",
    "    output_chunk_length=output_chunk_length,\n",
    ")"
   ]
  },
  {
   "cell_type": "code",
   "execution_count": 140,
   "metadata": {},
   "outputs": [
    {
     "name": "stderr",
     "output_type": "stream",
     "text": [
      "Model supports multi-output; a single estimator forecasts all the horizons and components.\n",
      "Model supports multi-output; a single estimator forecasts all the horizons and components.\n"
     ]
    }
   ],
   "source": [
    "class Model:\n",
    "    def __init__(self, model: Union[RegressionModel, XGBModel]):\n",
    "        self.model = model\n",
    "        self.estimator = model.get_estimator(0, 0)\n",
    "\n",
    "\n",
    "ridge = Model(regmodel)\n",
    "xgb = Model(xgbmodel)"
   ]
  },
  {
   "cell_type": "markdown",
   "metadata": {},
   "source": [
    "- In order to select features I run RFECV on every subseries. I will select the features that were selected in more than half of the subseries."
   ]
  },
  {
   "cell_type": "code",
   "execution_count": 141,
   "metadata": {},
   "outputs": [
    {
     "data": {
      "application/vnd.jupyter.widget-view+json": {
       "model_id": "5f709868d9174c55b7b61f4526bb20e4",
       "version_major": 2,
       "version_minor": 0
      },
      "text/plain": [
       "IntProgress(value=0, max=7)"
      ]
     },
     "metadata": {},
     "output_type": "display_data"
    },
    {
     "data": {
      "text/plain": [
       "18"
      ]
     },
     "execution_count": 141,
     "metadata": {},
     "output_type": "execute_result"
    }
   ],
   "source": [
    "candidate = xgb\n",
    "\n",
    "pbar = IntProgress(min=0, max=len(train))\n",
    "display(pbar)\n",
    "\n",
    "used_features = np.zeros(n_features)\n",
    "for i, _ in enumerate(train):\n",
    "    selector = RFECV(\n",
    "        candidate.estimator,\n",
    "        step=0.05,\n",
    "        min_features_to_select=5,\n",
    "        cv=TimeSeriesSplit(n_splits=4),\n",
    "    )\n",
    "\n",
    "    # The selection is made taking into account only the next time step\n",
    "    selector = selector.fit(train_future_covariates[i].values(), train[i].values())\n",
    "    used_features += selector.support_.astype(int)\n",
    "    pbar.value += 1\n",
    "\n",
    "# We only select features that have been selected in at least half of the subseries\n",
    "index_relevant_features = [\n",
    "    int(i) for i in np.where(used_features / n_subseries >= 0.5)[0]\n",
    "]\n",
    "\n",
    "selected_feature_names = list(\n",
    "    expanded_covariates_subseries[0].columns[index_relevant_features]\n",
    ")\n",
    "\n",
    "selected_train_future_covariates = [\n",
    "    s[selected_feature_names] for s in train_future_covariates\n",
    "]\n",
    "selected_test_future_covariates = test_future_covariates[selected_feature_names]\n",
    "\n",
    "len(selected_feature_names)"
   ]
  },
  {
   "cell_type": "code",
   "execution_count": 145,
   "metadata": {},
   "outputs": [
    {
     "data": {
      "text/plain": [
       "XGBModel(lags=48, lags_past_covariates=None, lags_future_covariates=(48, 1), output_chunk_length=24, output_chunk_shift=0, add_encoders=None, likelihood=None, quantiles=None, random_state=None, multi_models=True, use_static_covariates=True)"
      ]
     },
     "execution_count": 145,
     "metadata": {},
     "output_type": "execute_result"
    }
   ],
   "source": [
    "candidate.model.fit(\n",
    "    train,\n",
    "    future_covariates=selected_train_future_covariates,\n",
    ")"
   ]
  },
  {
   "cell_type": "code",
   "execution_count": 146,
   "metadata": {},
   "outputs": [
    {
     "data": {
      "text/plain": [
       "930"
      ]
     },
     "execution_count": 146,
     "metadata": {},
     "output_type": "execute_result"
    }
   ],
   "source": [
    "candidate.estimator.n_features_in_"
   ]
  },
  {
   "cell_type": "markdown",
   "metadata": {},
   "source": [
    "## Testing"
   ]
  },
  {
   "cell_type": "code",
   "execution_count": null,
   "metadata": {},
   "outputs": [
    {
     "data": {
      "application/vnd.jupyter.widget-view+json": {
       "model_id": "6b2abde1235849f485083b2243c89d27",
       "version_major": 2,
       "version_minor": 0
      },
      "text/plain": [
       "interactive(children=(SelectMultiple(description='features', index=(0,), options=('dow_1', 'dow_3', 'dow_5', '…"
      ]
     },
     "metadata": {},
     "output_type": "display_data"
    }
   ],
   "source": [
    "feature_i = SelectMultiple(\n",
    "    options=selected_feature_names, value=selected_feature_names[:1]\n",
    ")\n",
    "\n",
    "\n",
    "@interact(features=feature_i)\n",
    "def plot_forecast(features):\n",
    "    arbitrary_breakpoints = [100, 125, 130, 132, 518]  # Needs to be above n_lags\n",
    "    fig, axes = plt.subplots(\n",
    "        2, len(arbitrary_breakpoints), figsize=(20, 5), sharey=\"row\", sharex=\"col\"\n",
    "    )\n",
    "    for i, n_split in enumerate(arbitrary_breakpoints):\n",
    "        test_in, test_out = test.split_before(n_split)\n",
    "\n",
    "        predicted_inflow = candidate.model.predict(\n",
    "            series=test_in,\n",
    "            n=output_chunk_length,\n",
    "            future_covariates=selected_test_future_covariates,\n",
    "        )\n",
    "\n",
    "        actual_inflow = test.slice_n_points_before(\n",
    "            end_ts=predicted_inflow.time_index[-1], n=(n_lags + output_chunk_length)\n",
    "        )\n",
    "\n",
    "        predicted_inflow.plot(label=\"predicted\", ax=axes[0, i])\n",
    "        actual_inflow.plot(label=\"actual\", ax=axes[0, i])\n",
    "\n",
    "        selected_test_future_covariates[list(features)].slice_intersect(\n",
    "            actual_inflow\n",
    "        ).plot(ax=axes[1, i])\n",
    "\n",
    "        axes[0, i].axvline(x=test_out.time_index[0], c=\"red\", linestyle=\"dashed\")\n",
    "        axes[1, i].axvline(x=test_out.time_index[0], c=\"red\", linestyle=\"dashed\")\n",
    "\n",
    "    plt.tight_layout()\n"
   ]
  },
  {
   "cell_type": "markdown",
   "metadata": {},
   "source": [
    "- At every step of the test series, we forecast the next 6/12/24 hours and compare."
   ]
  },
  {
   "cell_type": "code",
   "execution_count": 148,
   "metadata": {},
   "outputs": [],
   "source": [
    "def compute_errors(\n",
    "    ts: TimeSeries,\n",
    "    model: ForecastingModel,\n",
    "    horizon: int,\n",
    "    *,\n",
    "    future_covariates: Optional[TimeSeries] = None,\n",
    "    output_transform: Optional[Callable] = None,\n",
    "    is_naive: bool = False,\n",
    "):\n",
    "    n_lags = abs(model.extreme_lags[0])\n",
    "\n",
    "    n_steps = len(ts) - n_lags - horizon\n",
    "    pbar2 = IntProgress(min=0, max=n_steps)\n",
    "    display(pbar2)\n",
    "\n",
    "    errors = []\n",
    "    for t in range(n_steps):\n",
    "        ts_in, ts_out = ts.split_before(t + n_lags)\n",
    "\n",
    "        kwargs = {}\n",
    "        if model.supports_future_covariates:\n",
    "            kwargs[\"future_covariates\"] = future_covariates\n",
    "        if model.supports_transferrable_series_prediction:\n",
    "            kwargs[\"series\"] = ts_in\n",
    "        if is_naive:\n",
    "            # Naive models can only _continue_ the series they have been trained on\n",
    "            model.fit(ts_in)\n",
    "\n",
    "        pred = model.predict(\n",
    "            horizon,\n",
    "            **kwargs,\n",
    "        )\n",
    "\n",
    "        actual_values = ts_out.slice_intersect(pred).values()\n",
    "        pred_values = pred.values()\n",
    "        if output_transform is not None:\n",
    "            actual_values = output_transform(actual_values)\n",
    "            pred_values = output_transform(pred_values)\n",
    "\n",
    "        error = actual_values - pred_values\n",
    "        errors.append(TimeSeries.from_values(values=error, columns=[\"error\"]))\n",
    "\n",
    "        pbar2.value += 1\n",
    "    return errors\n",
    "\n",
    "\n",
    "def rmse(x):\n",
    "    return np.sqrt(np.mean(x**2))\n",
    "\n",
    "\n",
    "def metric_by_horizon(errors: np.array, metric: Callable, name: str) -> pd.Series:\n",
    "    errors_df = pd.concat([e.to_dataframe() for e in errors])\n",
    "    errors_agg = (\n",
    "        errors_df.reset_index().groupby(\"time\").apply(metric, include_groups=False)\n",
    "    )\n",
    "    errors_agg.name = name\n",
    "\n",
    "    return errors_agg"
   ]
  },
  {
   "cell_type": "code",
   "execution_count": 149,
   "metadata": {},
   "outputs": [
    {
     "data": {
      "application/vnd.jupyter.widget-view+json": {
       "model_id": "3d6813abab3147bc8b890dbb70c8866b",
       "version_major": 2,
       "version_minor": 0
      },
      "text/plain": [
       "IntProgress(value=0, max=2160)"
      ]
     },
     "metadata": {},
     "output_type": "display_data"
    },
    {
     "data": {
      "application/vnd.jupyter.widget-view+json": {
       "model_id": "2bb6eef460d847ff97a2e6306cb2dc8a",
       "version_major": 2,
       "version_minor": 0
      },
      "text/plain": [
       "IntProgress(value=0, max=2160)"
      ]
     },
     "metadata": {},
     "output_type": "display_data"
    }
   ],
   "source": [
    "candidate_errors = compute_errors(\n",
    "    test,\n",
    "    candidate.model,\n",
    "    output_chunk_length,\n",
    "    future_covariates=selected_test_future_covariates,\n",
    "    output_transform=np.expm1,\n",
    ")\n",
    "naive_errors = compute_errors(\n",
    "    test, naive, output_chunk_length, output_transform=np.expm1, is_naive=True\n",
    ")"
   ]
  },
  {
   "cell_type": "code",
   "execution_count": 150,
   "metadata": {},
   "outputs": [
    {
     "data": {
      "text/plain": [
       "<Axes: xlabel='time'>"
      ]
     },
     "execution_count": 150,
     "metadata": {},
     "output_type": "execute_result"
    },
    {
     "data": {
      "image/png": "[encoded data removed]",
      "text/plain": [
       "<Figure size 640x480 with 1 Axes>"
      ]
     },
     "metadata": {},
     "output_type": "display_data"
    }
   ],
   "source": [
    "pd.concat(\n",
    "    [\n",
    "        metric_by_horizon(candidate_errors, rmse, \"xgb\"),\n",
    "        metric_by_horizon(naive_errors, rmse, \"naive\"),\n",
    "    ],\n",
    "    axis=1,\n",
    ").plot()"
   ]
  }
 ],
 "metadata": {
  "kernelspec": {
   "display_name": "alt-venv",
   "language": "python",
   "name": "python3"
  },
  "language_info": {
   "codemirror_mode": {
    "name": "ipython",
    "version": 3
   },
   "file_extension": ".py",
   "mimetype": "text/x-python",
   "name": "python",
   "nbconvert_exporter": "python",
   "pygments_lexer": "ipython3",
   "version": "3.12.5"
  }
 },
 "nbformat": 4,
 "nbformat_minor": 2
}
