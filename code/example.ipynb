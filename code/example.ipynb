{
 "cells": [
  {
   "cell_type": "markdown",
   "metadata": {},
   "source": [
    "# Objective:\n",
    "\n",
    "Designing a 8 hours ahead water inflow forecast."
   ]
  },
  {
   "cell_type": "code",
   "execution_count": 2,
   "metadata": {},
   "outputs": [],
   "source": [
    "import json\n",
    "import numpy as np\n",
    "import pandas as pd\n",
    "import seaborn as sns\n",
    "\n",
    "import matplotlib.pyplot as plt\n",
    "\n",
    "from os.path import abspath\n",
    "\n",
    "from sklearn.preprocessing import PolynomialFeatures\n",
    "from sklearn.linear_model import Ridge\n",
    "\n",
    "from darts import TimeSeries\n",
    "from darts.utils.missing_values import extract_subseries, fill_missing_values\n",
    "from darts.models.forecasting.xgboost import XGBModel\n",
    "from darts.models.forecasting.regression_model import RegressionModel\n",
    "from darts.metrics import rmse"
   ]
  },
  {
   "cell_type": "code",
   "execution_count": 3,
   "metadata": {},
   "outputs": [],
   "source": [
    "target = \"FB20F11_81\"\n",
    "\n",
    "\n",
    "def plot_lagged_variables_comparison(data, var1, var2, lags):\n",
    "    if var2 is None:\n",
    "        var2 = var1\n",
    "\n",
    "    list_of_dfs = []\n",
    "    for lag in lags:\n",
    "        list_of_dfs.append(\n",
    "            pd.DataFrame(\n",
    "                {\n",
    "                    var1: data[var1].values,\n",
    "                    f\"lagged_{var2}\": data[var2].shift(lag).values,\n",
    "                    \"lag_order\": f\"L{lag}\",\n",
    "                }\n",
    "            )\n",
    "        )\n",
    "\n",
    "    sns.lmplot(\n",
    "        pd.concat(list_of_dfs),\n",
    "        x=f\"lagged_{var2}\",\n",
    "        y=var1,\n",
    "        hue=\"lag_order\",\n",
    "        markers=\".\",\n",
    "        scatter_kws=dict(alpha=0.3),\n",
    "    )\n",
    "\n",
    "\n",
    "def plot_timeseries_by_unit(data):\n",
    "    with open(\"./units.json\", \"r\") as f:\n",
    "        units = json.load(f)\n",
    "\n",
    "    dfmelt = data.melt(ignore_index=False)\n",
    "    dfmelt[\"unit\"] = dfmelt[\"component\"].map(units)\n",
    "\n",
    "    sns.relplot(\n",
    "        dfmelt.reset_index(),\n",
    "        x=\"time\",\n",
    "        y=\"value\",\n",
    "        row=\"unit\",\n",
    "        kind=\"line\",\n",
    "        hue=\"component\",\n",
    "        facet_kws=dict(sharey=False),\n",
    "        aspect=5,\n",
    "    )"
   ]
  },
  {
   "cell_type": "markdown",
   "metadata": {},
   "source": [
    "## Loading data"
   ]
  },
  {
   "cell_type": "code",
   "execution_count": 4,
   "metadata": {},
   "outputs": [],
   "source": [
    "ts = TimeSeries.from_csv(\"../processed/data.csv\", parse_dates=True, time_col=\"time\")"
   ]
  },
  {
   "cell_type": "markdown",
   "metadata": {},
   "source": [
    "- Splitting into continuous timeseries"
   ]
  },
  {
   "cell_type": "code",
   "execution_count": 5,
   "metadata": {},
   "outputs": [
    {
     "name": "stdout",
     "output_type": "stream",
     "text": [
      "Total number of usable samples 6768\n"
     ]
    }
   ],
   "source": [
    "subseries = extract_subseries(ts, mode=\"any\")\n",
    "\n",
    "min_length = 24 * 7  # 7 days\n",
    "subseries = [s for s in subseries if len(s) >= min_length]\n",
    "\n",
    "print(f\"Total number of usable samples {sum([len(s) for s in subseries])}\")"
   ]
  },
  {
   "cell_type": "markdown",
   "metadata": {},
   "source": [
    "- We us a lowpass filter for the rain"
   ]
  },
  {
   "cell_type": "code",
   "execution_count": 6,
   "metadata": {},
   "outputs": [],
   "source": [
    "def lp_filter(x: np.array, alpha: float) -> np.array:\n",
    "    # https://empslocal.ex.ac.uk/people/staff/dbs202/cag/courses/MT37C/course/node102.html\n",
    "    y = np.zeros_like(x)\n",
    "    y[0] = x[0]\n",
    "\n",
    "    for t in range(1, len(x)):\n",
    "        y[t] = alpha * x[t] + (1 - alpha) * y[t - 1]\n",
    "\n",
    "    return y\n",
    "\n",
    "\n",
    "# Alpha was chosen as an approximated mean, after the exploration (in overview.ipynb)\n",
    "alpha = 0.2\n",
    "for series in subseries:\n",
    "    lp_precip = lp_filter(series[\"acc_precip\"].values().ravel(), alpha)\n",
    "    ts_lp = TimeSeries.from_times_and_values(\n",
    "        times=series.time_index, values=lp_precip, columns=\"lp_precip\"\n",
    "    )\n",
    "    series = series.concatenate(ts_lp, axis=1)"
   ]
  },
  {
   "cell_type": "markdown",
   "metadata": {},
   "source": [
    "- Splitting subseries between target and covariates"
   ]
  },
  {
   "cell_type": "code",
   "execution_count": 7,
   "metadata": {},
   "outputs": [],
   "source": [
    "target_subseries = [s[target] for s in subseries]\n",
    "covariates_subseries = [s.drop_columns(target) for s in subseries]"
   ]
  },
  {
   "cell_type": "markdown",
   "metadata": {},
   "source": [
    "- We include polynomial functions of the weather features"
   ]
  },
  {
   "cell_type": "code",
   "execution_count": 8,
   "metadata": {},
   "outputs": [],
   "source": [
    "def generate_poly_ts(subts: TimeSeries):\n",
    "    poly_values = PolynomialFeatures(degree=3, include_bias=False).fit_transform(\n",
    "        subts.values()\n",
    "    )\n",
    "    poly_features = pd.DataFrame(\n",
    "        poly_values,\n",
    "        columns=[f\"feature_{i}\" for i in range(poly_values.shape[1])],\n",
    "        index=subts.time_index,\n",
    "    )\n",
    "\n",
    "    return TimeSeries.from_dataframe(\n",
    "        poly_features,\n",
    "        freq=\"h\",\n",
    "    )\n",
    "\n",
    "\n",
    "poly_covariates = [generate_poly_ts(s) for s in covariates_subseries]"
   ]
  },
  {
   "cell_type": "markdown",
   "metadata": {},
   "source": [
    "- We include datetime features, using one hot encoding"
   ]
  },
  {
   "cell_type": "code",
   "execution_count": 9,
   "metadata": {},
   "outputs": [],
   "source": [
    "def generate_datetime_ts(subts: TimeSeries):\n",
    "    dayofweek = (\n",
    "        pd.get_dummies(subts.time_index.day_of_week)\n",
    "        .rename(columns=lambda x: f\"dow_{x}\")\n",
    "        .set_index(subts.time_index)\n",
    "    )\n",
    "    hours = (\n",
    "        pd.get_dummies(subts.time_index.hour)\n",
    "        .rename(columns=lambda x: f\"hour_{x}\")\n",
    "        .set_index(subts.time_index)\n",
    "    )\n",
    "\n",
    "    datetime_features = dayofweek.merge(\n",
    "        hours, left_index=True, right_index=True\n",
    "    ).astype(int)\n",
    "\n",
    "    return TimeSeries.from_dataframe(datetime_features)\n",
    "\n",
    "\n",
    "datetime_covariates = [generate_poly_ts(s) for s in subseries]"
   ]
  },
  {
   "cell_type": "code",
   "execution_count": 10,
   "metadata": {},
   "outputs": [],
   "source": [
    "expanded_covariates_subseries = [\n",
    "    dcv.concatenate(pcv, axis=1)\n",
    "    for dcv, pcv in zip(datetime_covariates, poly_covariates)\n",
    "]"
   ]
  },
  {
   "cell_type": "code",
   "execution_count": 11,
   "metadata": {},
   "outputs": [
    {
     "data": {
      "text/plain": [
       "(464, 383)"
      ]
     },
     "execution_count": 11,
     "metadata": {},
     "output_type": "execute_result"
    }
   ],
   "source": [
    "expanded_covariates_subseries[0].pd_dataframe().shape"
   ]
  },
  {
   "cell_type": "code",
   "execution_count": 12,
   "metadata": {},
   "outputs": [
    {
     "data": {
      "image/png": "[encoded data removed]",
      "text/plain": [
       "<Figure size 1500x300 with 1 Axes>"
      ]
     },
     "metadata": {},
     "output_type": "display_data"
    }
   ],
   "source": [
    "fig, ax = plt.subplots(1, 1, figsize=(15, 3))\n",
    "for s in target_subseries:\n",
    "    s.plot(ax=ax)\n",
    "ax.legend().set_visible(False)"
   ]
  },
  {
   "cell_type": "code",
   "execution_count": 13,
   "metadata": {},
   "outputs": [],
   "source": [
    "n_subseries = len(target_subseries)\n",
    "n_features = expanded_covariates_subseries[0].shape[1]\n",
    "\n",
    "slice_train = slice(0, n_subseries - 1)\n",
    "slice_test = -1\n",
    "\n",
    "train = target_subseries[slice_train]\n",
    "test = target_subseries[slice_test]\n",
    "\n",
    "train_future_covariates = expanded_covariates_subseries[slice_train]\n",
    "test_future_covariates = expanded_covariates_subseries[slice_test]\n",
    "\n",
    "output_chunk_length = 6\n",
    "n_lags = 12"
   ]
  },
  {
   "cell_type": "code",
   "execution_count": 14,
   "metadata": {},
   "outputs": [],
   "source": [
    "estimator = Ridge(fit_intercept=False, solver=\"lsqr\")\n",
    "\n",
    "model = RegressionModel(\n",
    "    model=estimator,\n",
    "    lags=n_lags,\n",
    "    lags_future_covariates=(n_lags, 1),\n",
    "    output_chunk_length=output_chunk_length,\n",
    ")"
   ]
  },
  {
   "cell_type": "markdown",
   "metadata": {},
   "source": [
    "- In order to select features I run RFECV on every subseries. I will select the features that were selected in more than half of the subseries."
   ]
  },
  {
   "cell_type": "code",
   "execution_count": 15,
   "metadata": {},
   "outputs": [],
   "source": [
    "from sklearn.feature_selection import RFECV\n",
    "from sklearn.model_selection import TimeSeriesSplit\n",
    "\n",
    "used_features = np.zeros(n_features)\n",
    "for i, _ in enumerate(train):\n",
    "    selector = RFECV(estimator, step=1, cv=TimeSeriesSplit(n_splits=4))\n",
    "    selector = selector.fit(train_future_covariates[i].values(), train[i].values())\n",
    "    used_features += selector.support_.astype(int)\n",
    "\n",
    "# We only select features that have been selected in at least half of the subseries\n",
    "index_relevant_features = [\n",
    "    int(i) for i in np.where(used_features / n_subseries > 0.5)[0]\n",
    "]\n",
    "\n",
    "selected_feature_names = list(\n",
    "    expanded_covariates_subseries[0].columns[index_relevant_features]\n",
    ")"
   ]
  },
  {
   "cell_type": "code",
   "execution_count": 16,
   "metadata": {},
   "outputs": [],
   "source": [
    "selected_train_future_covariates = [\n",
    "    s[selected_feature_names] for s in train_future_covariates\n",
    "]\n",
    "selected_test_future_covariates = test_future_covariates[selected_feature_names]"
   ]
  },
  {
   "cell_type": "code",
   "execution_count": 17,
   "metadata": {},
   "outputs": [
    {
     "data": {
      "text/plain": [
       "RegressionModel(lags=12, lags_past_covariates=None, lags_future_covariates=(12, 1), output_chunk_length=6, output_chunk_shift=0, add_encoders=None, model=Ridge(fit_intercept=False, solver='lsqr'), multi_models=True, use_static_covariates=True)"
      ]
     },
     "execution_count": 17,
     "metadata": {},
     "output_type": "execute_result"
    }
   ],
   "source": [
    "model.fit(\n",
    "    train,\n",
    "    future_covariates=selected_train_future_covariates,\n",
    ")"
   ]
  },
  {
   "cell_type": "code",
   "execution_count": null,
   "metadata": {},
   "outputs": [],
   "source": [
    "from ipywidgets import SelectMultiple, interact\n",
    "\n",
    "feature_i = SelectMultiple(options=selected_feature_names)"
   ]
  },
  {
   "cell_type": "code",
   "execution_count": null,
   "metadata": {},
   "outputs": [
    {
     "data": {
      "application/vnd.jupyter.widget-view+json": {
       "model_id": "e9c6dc28a3d042f5b3927c6ed3d5be6d",
       "version_major": 2,
       "version_minor": 0
      },
      "text/plain": [
       "interactive(children=(SelectMultiple(description='features', options=('feature_9', 'feature_11', 'feature_55',…"
      ]
     },
     "metadata": {},
     "output_type": "display_data"
    }
   ],
   "source": [
    "@interact(features=feature_i)\n",
    "def plot_forecast(features):\n",
    "    pred_horizon = 6\n",
    "\n",
    "    arbitrary_breakpoints = [18, 20, 25, 35, 58]  # test set has 70 points\n",
    "    fig, axes = plt.subplots(\n",
    "        2, len(arbitrary_breakpoints), figsize=(15, 5), sharey=\"row\", sharex=\"col\"\n",
    "    )\n",
    "    for i, n_split in enumerate(arbitrary_breakpoints):\n",
    "        test_in, test_out = test.split_before(n_split)\n",
    "\n",
    "        predicted_inflow = model.predict(\n",
    "            series=test_in,\n",
    "            n=pred_horizon,\n",
    "            future_covariates=selected_test_future_covariates,\n",
    "        )\n",
    "\n",
    "        actual_inflow = TimeSeries.from_series(\n",
    "            test_in.append(test_out[predicted_inflow.time_index]).pd_series()\n",
    "        ).slice_n_points_before(end_ts=predicted_inflow.time_index[-1], n=14)\n",
    "\n",
    "        predicted_inflow.plot(label=\"pred\", ax=axes[0, i])\n",
    "        actual_inflow.plot(label=\"actual\", ax=axes[0, i])\n",
    "\n",
    "        selected_test_future_covariates[list(features)].slice(\n",
    "            start_ts=actual_inflow.time_index[0], end_ts=actual_inflow.time_index[-1]\n",
    "        ).plot(label=\"pred\", ax=axes[1, i])\n",
    "\n",
    "        axes[0, i].axvline(x=test_out.time_index[0], c=\"red\", linestyle=\"dashed\")\n",
    "        axes[1, i].axvline(x=test_out.time_index[0], c=\"red\", linestyle=\"dashed\")\n",
    "\n",
    "    plt.tight_layout()"
   ]
  }
 ],
 "metadata": {
  "kernelspec": {
   "display_name": ".venv",
   "language": "python",
   "name": "python3"
  },
  "language_info": {
   "codemirror_mode": {
    "name": "ipython",
    "version": 3
   },
   "file_extension": ".py",
   "mimetype": "text/x-python",
   "name": "python",
   "nbconvert_exporter": "python",
   "pygments_lexer": "ipython3",
   "version": "3.12.5"
  }
 },
 "nbformat": 4,
 "nbformat_minor": 2
}
