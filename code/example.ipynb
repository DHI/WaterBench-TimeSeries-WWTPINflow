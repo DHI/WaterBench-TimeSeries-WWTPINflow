{
 "cells": [
  {
   "cell_type": "markdown",
   "metadata": {},
   "source": [
    "# Objective:\n",
    "\n",
    "Designing a 6/12/24 hours ahead water inflow forecast."
   ]
  },
  {
   "cell_type": "code",
   "execution_count": 70,
   "metadata": {},
   "outputs": [],
   "source": [
    "import numpy as np\n",
    "import pandas as pd\n",
    "\n",
    "import matplotlib.pyplot as plt\n",
    "\n",
    "from IPython.display import display\n",
    "from ipywidgets import SelectMultiple, interact, IntProgress, IntSlider\n",
    "\n",
    "from typing import Union, Optional, Callable\n",
    "\n",
    "from sklearn.preprocessing import PolynomialFeatures\n",
    "from sklearn.linear_model import Ridge\n",
    "from sklearn.feature_selection import RFECV\n",
    "from sklearn.model_selection import TimeSeriesSplit\n",
    "\n",
    "from darts import TimeSeries\n",
    "from darts.utils.missing_values import extract_subseries\n",
    "from darts.models import NaiveMovingAverage, RegressionModel, XGBModel\n",
    "from darts.models.forecasting.forecasting_model import ForecastingModel\n"
   ]
  },
  {
   "cell_type": "markdown",
   "metadata": {},
   "source": [
    "## Loading data\n",
    "\n",
    "- We inmediatly transform the target and precipitation by computing their logarithm. This step will _squeeze_ their values which can help during training."
   ]
  },
  {
   "cell_type": "code",
   "execution_count": 71,
   "metadata": {},
   "outputs": [],
   "source": [
    "data = pd.read_csv(\"../processed/data.csv\", index_col=0, parse_dates=True)"
   ]
  },
  {
   "cell_type": "code",
   "execution_count": 72,
   "metadata": {},
   "outputs": [],
   "source": [
    "data.rename(columns={\"FB20F11_81\": \"flow\"}, inplace=True)\n",
    "data[[\"flow\", \"acc_precip\"]] = data[[\"flow\", \"acc_precip\"]].apply(np.log1p)\n",
    "\n",
    "# These two variables have a big gap at the end, so we discard them\n",
    "data.drop(columns=[\"temp_grass\", \"temp_soil_10\", \"temp_soil_30\"], inplace=True)\n",
    "\n",
    "# For later convenience, we will work with darts TimeSeries\n",
    "ts = TimeSeries.from_dataframe(data, freq=\"h\")"
   ]
  },
  {
   "cell_type": "markdown",
   "metadata": {},
   "source": [
    "- Splitting into continuous timeseries\n",
    "\n",
    "Given the gaps in the datat, we will work with a list of `TimeSeries`. This will require all transformations to be applied to each subseries. "
   ]
  },
  {
   "cell_type": "code",
   "execution_count": 73,
   "metadata": {},
   "outputs": [
    {
     "name": "stdout",
     "output_type": "stream",
     "text": [
      "Total number of usable samples 9304\n"
     ]
    }
   ],
   "source": [
    "subseries = extract_subseries(ts, mode=\"any\")\n",
    "\n",
    "min_length = 24 * 7  # 7 days\n",
    "subseries = [s for s in subseries if len(s) >= min_length]\n",
    "\n",
    "print(f\"Total number of usable samples {sum([len(s) for s in subseries])}\")"
   ]
  },
  {
   "cell_type": "markdown",
   "metadata": {},
   "source": [
    "- The dynamics of observed precipitation are faster than their effects. We smooth the precipitation by using a Holt exponential smoother; the value of the parameter $\\alpha$ is chosen based on the correlation study in the overview [notebook](./overview.ipynb)."
   ]
  },
  {
   "cell_type": "code",
   "execution_count": 74,
   "metadata": {},
   "outputs": [],
   "source": [
    "def holt_smoother(x: np.array, alpha: float) -> np.array:\n",
    "    # https://empslocal.ex.ac.uk/people/staff/dbs202/cag/courses/MT37C/course/node102.html\n",
    "    y = np.zeros_like(x)\n",
    "    y[0] = x[0]\n",
    "\n",
    "    for t in range(1, len(x)):\n",
    "        y[t] = alpha * x[t] + (1 - alpha) * y[t - 1]\n",
    "\n",
    "    return y\n",
    "\n",
    "\n",
    "alpha = 0.99\n",
    "for series in subseries:\n",
    "    lp_precip = holt_smoother(series[\"acc_precip\"].values().ravel(), alpha)\n",
    "    ts_lp = TimeSeries.from_times_and_values(\n",
    "        times=series.time_index, values=lp_precip, columns=\"smooth_precip\"\n",
    "    )\n",
    "    series = series.concatenate(ts_lp, axis=1)"
   ]
  },
  {
   "cell_type": "markdown",
   "metadata": {},
   "source": [
    "- Splitting subseries between target and covariates"
   ]
  },
  {
   "cell_type": "code",
   "execution_count": 75,
   "metadata": {},
   "outputs": [],
   "source": [
    "target_subseries = [s[\"flow\"] for s in subseries]\n",
    "covariates_subseries = [s.drop_columns(\"flow\") for s in subseries]"
   ]
  },
  {
   "cell_type": "markdown",
   "metadata": {},
   "source": [
    "- We include polynomial functions of the weather features"
   ]
  },
  {
   "cell_type": "code",
   "execution_count": 76,
   "metadata": {},
   "outputs": [],
   "source": [
    "def generate_poly_ts(ts: TimeSeries, degree: int):\n",
    "    poly_values = PolynomialFeatures(degree, include_bias=False).fit_transform(\n",
    "        ts.values()\n",
    "    )\n",
    "    poly_features = pd.DataFrame(\n",
    "        poly_values,\n",
    "        columns=[f\"feature_{i}\" for i in range(poly_values.shape[1])],\n",
    "        index=ts.time_index,\n",
    "    )\n",
    "\n",
    "    return TimeSeries.from_dataframe(\n",
    "        poly_features,\n",
    "        freq=\"h\",\n",
    "    )\n",
    "\n",
    "\n",
    "deg = 3  # Polynomial degree\n",
    "poly_covariates = [generate_poly_ts(s, deg) for s in covariates_subseries]"
   ]
  },
  {
   "cell_type": "markdown",
   "metadata": {},
   "source": [
    "- We include datetime features, using one hot encoding"
   ]
  },
  {
   "cell_type": "code",
   "execution_count": 77,
   "metadata": {},
   "outputs": [],
   "source": [
    "def generate_datetime_ts(ts: TimeSeries):\n",
    "    dayofweek = (\n",
    "        pd.get_dummies(ts.time_index.day_of_week)\n",
    "        .rename(columns=lambda x: f\"dow_{x}\")\n",
    "        .set_index(ts.time_index)\n",
    "    )\n",
    "    hours = (\n",
    "        pd.get_dummies(ts.time_index.hour)\n",
    "        .rename(columns=lambda x: f\"hour_{x}\")\n",
    "        .set_index(ts.time_index)\n",
    "    )\n",
    "\n",
    "    datetime_features = dayofweek.merge(\n",
    "        hours, left_index=True, right_index=True\n",
    "    ).astype(int)\n",
    "\n",
    "    return TimeSeries.from_dataframe(datetime_features)\n",
    "\n",
    "\n",
    "datetime_covariates = [generate_datetime_ts(s) for s in covariates_subseries]"
   ]
  },
  {
   "cell_type": "code",
   "execution_count": 79,
   "metadata": {},
   "outputs": [
    {
     "data": {
      "image/png": "[encoded data removed]",
      "text/plain": [
       "<Figure size 1500x300 with 1 Axes>"
      ]
     },
     "metadata": {},
     "output_type": "display_data"
    }
   ],
   "source": [
    "fig, ax = plt.subplots(1, 1, figsize=(15, 3))\n",
    "for s in target_subseries:\n",
    "    s.plot(ax=ax)\n",
    "ax.legend().set_visible(False)"
   ]
  },
  {
   "cell_type": "markdown",
   "metadata": {},
   "source": [
    "## Modelling"
   ]
  },
  {
   "cell_type": "code",
   "execution_count": 99,
   "metadata": {},
   "outputs": [],
   "source": [
    "n_subseries = len(target_subseries)\n",
    "n_features = poly_covariates[0].shape[1] + datetime_covariates[0].shape[1]\n",
    "\n",
    "slice_train = slice(0, n_subseries - 1)\n",
    "slice_test = -1\n",
    "\n",
    "train = target_subseries[slice_train]\n",
    "test = target_subseries[slice_test]\n",
    "\n",
    "train_past_covariates = poly_covariates[slice_train]\n",
    "test_past_covariates = poly_covariates[slice_test]\n",
    "\n",
    "train_future_covariates = datetime_covariates[slice_train]\n",
    "test_future_covariates = datetime_covariates[slice_test]\n",
    "\n",
    "output_chunk_length = 24\n",
    "n_lags = 48"
   ]
  },
  {
   "cell_type": "code",
   "execution_count": 100,
   "metadata": {},
   "outputs": [],
   "source": [
    "assert train[-1].time_index[-1] < test[0].time_index[0], (\n",
    "    \"test should come right after train\"\n",
    ")"
   ]
  },
  {
   "cell_type": "markdown",
   "metadata": {},
   "source": [
    "### Baseline"
   ]
  },
  {
   "cell_type": "code",
   "execution_count": 101,
   "metadata": {},
   "outputs": [],
   "source": [
    "naive = NaiveMovingAverage(input_chunk_length=n_lags)"
   ]
  },
  {
   "cell_type": "markdown",
   "metadata": {},
   "source": [
    "### Candidates"
   ]
  },
  {
   "cell_type": "code",
   "execution_count": 102,
   "metadata": {},
   "outputs": [],
   "source": [
    "encoders = {\"cyclic\": {\"future\": \"month\"}}\n",
    "\n",
    "regmodel = RegressionModel(\n",
    "    model=Ridge(fit_intercept=False, solver=\"lsqr\"),\n",
    "    lags=n_lags,\n",
    "    lags_future_covariates=(0, 1),\n",
    "    lags_past_covariates=n_lags,\n",
    "    output_chunk_length=output_chunk_length,\n",
    "    add_encoders=encoders,\n",
    ")\n",
    "\n",
    "xgbmodel = XGBModel(\n",
    "    lags=n_lags,\n",
    "    lags_future_covariates=(0, 1),\n",
    "    lags_past_covariates=n_lags,\n",
    "    output_chunk_length=output_chunk_length,\n",
    "    add_encoders=encoders,\n",
    ")"
   ]
  },
  {
   "cell_type": "markdown",
   "metadata": {},
   "source": [
    "We define the `Model` class to better access the model and its estimator (will be used during feature selection)."
   ]
  },
  {
   "cell_type": "code",
   "execution_count": 103,
   "metadata": {},
   "outputs": [
    {
     "name": "stderr",
     "output_type": "stream",
     "text": [
      "Model supports multi-output; a single estimator forecasts all the horizons and components.\n",
      "Model supports multi-output; a single estimator forecasts all the horizons and components.\n"
     ]
    }
   ],
   "source": [
    "class Model:\n",
    "    def __init__(self, model: Union[RegressionModel, XGBModel]):\n",
    "        self.model = model\n",
    "        self.estimator = model.get_estimator(0, 0)\n",
    "\n",
    "\n",
    "ridge = Model(regmodel)\n",
    "xgb = Model(xgbmodel)"
   ]
  },
  {
   "cell_type": "code",
   "execution_count": 118,
   "metadata": {},
   "outputs": [],
   "source": [
    "candidate = xgb"
   ]
  },
  {
   "cell_type": "markdown",
   "metadata": {},
   "source": [
    "#### Feature selection\n",
    "- In order to select features I run RFECV on every subseries. I will select the features that were selected in more than half of the subseries."
   ]
  },
  {
   "cell_type": "code",
   "execution_count": 127,
   "metadata": {},
   "outputs": [
    {
     "data": {
      "application/vnd.jupyter.widget-view+json": {
       "model_id": "6a74c3d5f93c4c4c8590aaefc8c927ad",
       "version_major": 2,
       "version_minor": 0
      },
      "text/plain": [
       "IntProgress(value=0, max=6)"
      ]
     },
     "metadata": {},
     "output_type": "display_data"
    },
    {
     "data": {
      "text/plain": [
       "17"
      ]
     },
     "execution_count": 127,
     "metadata": {},
     "output_type": "execute_result"
    }
   ],
   "source": [
    "pbar = IntProgress(min=0, max=len(train))\n",
    "display(pbar)\n",
    "\n",
    "original_past_covariate_names = train_past_covariates[0].components\n",
    "original_future_covariate_names = train_future_covariates[0].components\n",
    "\n",
    "used_features = np.zeros(n_features)\n",
    "train_merged_covariates = [\n",
    "    past_cov.concatenate(future_cov, axis=1)\n",
    "    for past_cov, future_cov in zip(train_past_covariates, train_future_covariates)\n",
    "]\n",
    "test_merged_covariates = test_past_covariates.concatenate(\n",
    "    test_future_covariates, axis=1\n",
    ")\n",
    "\n",
    "for train_i, covariates_i in zip(train, train_merged_covariates):\n",
    "    selector = RFECV(\n",
    "        candidate.estimator,\n",
    "        step=0.05,\n",
    "        min_features_to_select=5,\n",
    "        cv=TimeSeriesSplit(n_splits=4),\n",
    "    )\n",
    "\n",
    "    # The selection is made taking into account only the next time step\n",
    "    selector = selector.fit(covariates_i.values(), train_i.values())\n",
    "    used_features += selector.support_.astype(int)\n",
    "    pbar.value += 1\n",
    "\n",
    "# We only select features that have been selected in at least half of the subseries\n",
    "index_relevant_features = [\n",
    "    int(i) for i in np.where(used_features / n_subseries >= 0.5)[0]\n",
    "]\n",
    "\n",
    "selected_feature_names = list(\n",
    "    train_merged_covariates[0].components[index_relevant_features]\n",
    ")\n",
    "\n",
    "past_components = [\n",
    "    fn for fn in selected_feature_names if fn in original_past_covariate_names\n",
    "]\n",
    "future_components = [\n",
    "    fn for fn in selected_feature_names if fn in original_future_covariate_names\n",
    "]\n",
    "\n",
    "if len(past_components) > 0:\n",
    "    selected_train_past_covariates = [\n",
    "        s[past_components] for s in train_merged_covariates\n",
    "    ]\n",
    "    selected_test_past_covariates = test_merged_covariates[past_components]\n",
    "else:\n",
    "    selected_train_past_covariates = selected_test_past_covariates = None\n",
    "\n",
    "if len(future_components) > 0:\n",
    "    selected_train_future_covariates = [\n",
    "        s[future_components] for s in train_merged_covariates\n",
    "    ]\n",
    "    selected_test_future_covariates = test_merged_covariates[future_components]\n",
    "else:\n",
    "    selected_train_future_covariates = selected_test_future_covariates = None\n",
    "\n",
    "len(selected_feature_names)"
   ]
  },
  {
   "cell_type": "code",
   "execution_count": 128,
   "metadata": {},
   "outputs": [
    {
     "data": {
      "text/plain": [
       "XGBModel(lags=48, lags_past_covariates=48, lags_future_covariates=(0, 1), output_chunk_length=24, output_chunk_shift=0, add_encoders={'cyclic': {'future': 'month'}}, likelihood=None, quantiles=None, random_state=None, multi_models=True, use_static_covariates=True)"
      ]
     },
     "execution_count": 128,
     "metadata": {},
     "output_type": "execute_result"
    }
   ],
   "source": [
    "candidate.model.fit(\n",
    "    train,\n",
    "    past_covariates=selected_train_past_covariates,\n",
    "    future_covariates=selected_train_future_covariates,\n",
    ")"
   ]
  },
  {
   "cell_type": "code",
   "execution_count": 129,
   "metadata": {},
   "outputs": [
    {
     "data": {
      "text/plain": [
       "443"
      ]
     },
     "execution_count": 129,
     "metadata": {},
     "output_type": "execute_result"
    }
   ],
   "source": [
    "candidate.estimator.n_features_in_"
   ]
  },
  {
   "cell_type": "markdown",
   "metadata": {},
   "source": [
    "Despite the number of selected features is relatively small, once we include their lags, the number of features greatly increases."
   ]
  },
  {
   "cell_type": "markdown",
   "metadata": {},
   "source": [
    "## Testing"
   ]
  },
  {
   "cell_type": "code",
   "execution_count": 132,
   "metadata": {},
   "outputs": [
    {
     "data": {
      "application/vnd.jupyter.widget-view+json": {
       "model_id": "e5094696d8b340729f86e192d99f8095",
       "version_major": 2,
       "version_minor": 0
      },
      "text/plain": [
       "interactive(children=(SelectMultiple(description='Features to compare', index=(0,), options=('feature_3', 'fea…"
      ]
     },
     "metadata": {},
     "output_type": "display_data"
    }
   ],
   "source": [
    "feature_i = SelectMultiple(\n",
    "    options=past_components,\n",
    "    value=past_components[:1],\n",
    "    description=\"Features to compare\",\n",
    ")\n",
    "\n",
    "nudger = IntSlider(min=-12, max=12, value=0, description=\"Nudge pred. start\")\n",
    "\n",
    "\n",
    "@interact(features=feature_i, nudge=nudger)\n",
    "def plot_forecast(features, nudge):\n",
    "    arbitrary_breakpoints = [50, 85, 350, 532, 568]  # Needs to be above n_lags\n",
    "    fig, axes = plt.subplots(\n",
    "        2, len(arbitrary_breakpoints), figsize=(20, 5), sharey=\"row\", sharex=\"col\"\n",
    "    )\n",
    "    for i, n_split in enumerate(arbitrary_breakpoints):\n",
    "        time_axis = test.slice(\n",
    "            test.time_index[n_split - n_lags],\n",
    "            test.time_index[n_split + output_chunk_length],\n",
    "        ).time_index\n",
    "        minx = time_axis.min()\n",
    "        maxx = time_axis.max()\n",
    "\n",
    "        test_in, test_out = test.split_before(n_split + nudge)\n",
    "\n",
    "        predicted_inflow = candidate.model.predict(\n",
    "            series=test_in,\n",
    "            n=output_chunk_length,\n",
    "            past_covariates=selected_test_past_covariates,\n",
    "            future_covariates=selected_test_future_covariates,\n",
    "        )\n",
    "\n",
    "        actual_inflow = test.slice(start_ts=minx, end_ts=maxx)\n",
    "\n",
    "        predicted_inflow.plot(label=\"predicted\", ax=axes[0, i])\n",
    "        actual_inflow.plot(label=\"actual\", ax=axes[0, i])\n",
    "\n",
    "        selected_test_past_covariates[list(features)].slice_intersect(\n",
    "            actual_inflow\n",
    "        ).plot(ax=axes[1, i])\n",
    "\n",
    "        axes[0, i].axvline(x=test_out.time_index[0], c=\"red\", linestyle=\"dashed\")\n",
    "        axes[1, i].axvline(x=test_out.time_index[0], c=\"red\", linestyle=\"dashed\")\n",
    "\n",
    "        axes[0, i].set_xlim(minx, maxx)\n",
    "        axes[1, i].set_xlim(minx, maxx)\n",
    "\n",
    "    plt.tight_layout()\n"
   ]
  },
  {
   "cell_type": "markdown",
   "metadata": {},
   "source": [
    "- At every step of the test series, we forecast the next 6/12/24 hours and compare."
   ]
  },
  {
   "cell_type": "code",
   "execution_count": 133,
   "metadata": {},
   "outputs": [],
   "source": [
    "def compute_errors(\n",
    "    ts: TimeSeries,\n",
    "    model: ForecastingModel,\n",
    "    horizon: int,\n",
    "    *,\n",
    "    past_covariates: Optional[TimeSeries] = None,\n",
    "    future_covariates: Optional[TimeSeries] = None,\n",
    "    output_transform: Optional[Callable] = None,\n",
    "    is_naive: bool = False,\n",
    "):\n",
    "    n_lags = abs(model.extreme_lags[0])\n",
    "\n",
    "    n_steps = len(ts) - n_lags - horizon\n",
    "    pbar2 = IntProgress(min=0, max=n_steps)\n",
    "    display(pbar2)\n",
    "\n",
    "    errors = []\n",
    "    for t in range(n_steps):\n",
    "        ts_in, ts_out = ts.split_before(t + n_lags)\n",
    "\n",
    "        kwargs = {}\n",
    "        if model.supports_future_covariates:\n",
    "            kwargs[\"past_covariates\"] = past_covariates\n",
    "            kwargs[\"future_covariates\"] = future_covariates\n",
    "        if model.supports_transferrable_series_prediction:\n",
    "            kwargs[\"series\"] = ts_in\n",
    "        if is_naive:\n",
    "            # Naive models can only _continue_ the series they have been trained on\n",
    "            model.fit(ts_in)\n",
    "\n",
    "        pred = model.predict(\n",
    "            horizon,\n",
    "            **kwargs,\n",
    "        )\n",
    "\n",
    "        actual_values = ts_out.slice_intersect(pred).values()\n",
    "        pred_values = pred.values()\n",
    "        if output_transform is not None:\n",
    "            actual_values = output_transform(actual_values)\n",
    "            pred_values = output_transform(pred_values)\n",
    "\n",
    "        error = actual_values - pred_values\n",
    "        errors.append(TimeSeries.from_values(values=error, columns=[\"error\"]))\n",
    "\n",
    "        pbar2.value += 1\n",
    "    return errors\n",
    "\n",
    "\n",
    "def rmse(x):\n",
    "    return np.sqrt(np.mean(x**2))\n",
    "\n",
    "\n",
    "def metric_by_horizon(errors: np.array, metric: Callable, name: str) -> pd.Series:\n",
    "    errors_df = pd.concat([e.to_dataframe() for e in errors])\n",
    "    errors_agg = (\n",
    "        errors_df.reset_index().groupby(\"time\").apply(metric, include_groups=False)\n",
    "    )\n",
    "    errors_agg.name = name\n",
    "\n",
    "    return errors_agg"
   ]
  },
  {
   "cell_type": "code",
   "execution_count": 134,
   "metadata": {},
   "outputs": [
    {
     "data": {
      "application/vnd.jupyter.widget-view+json": {
       "model_id": "8f4ffd2edaa4467aaaf5838a7824f2e7",
       "version_major": 2,
       "version_minor": 0
      },
      "text/plain": [
       "IntProgress(value=0, max=976)"
      ]
     },
     "metadata": {},
     "output_type": "display_data"
    },
    {
     "data": {
      "application/vnd.jupyter.widget-view+json": {
       "model_id": "154097adfad0427d89c94a0d224f01d3",
       "version_major": 2,
       "version_minor": 0
      },
      "text/plain": [
       "IntProgress(value=0, max=976)"
      ]
     },
     "metadata": {},
     "output_type": "display_data"
    }
   ],
   "source": [
    "candidate_errors = compute_errors(\n",
    "    test,\n",
    "    candidate.model,\n",
    "    output_chunk_length,\n",
    "    past_covariates=selected_test_past_covariates,\n",
    "    future_covariates=selected_test_future_covariates,\n",
    "    output_transform=np.expm1,\n",
    ")\n",
    "naive_errors = compute_errors(\n",
    "    test, naive, output_chunk_length, output_transform=np.expm1, is_naive=True\n",
    ")"
   ]
  },
  {
   "cell_type": "code",
   "execution_count": 135,
   "metadata": {},
   "outputs": [
    {
     "data": {
      "text/plain": [
       "<Axes: xlabel='time'>"
      ]
     },
     "execution_count": 135,
     "metadata": {},
     "output_type": "execute_result"
    },
    {
     "data": {
      "image/png": "[encoded data removed]",
      "text/plain": [
       "<Figure size 640x480 with 1 Axes>"
      ]
     },
     "metadata": {},
     "output_type": "display_data"
    }
   ],
   "source": [
    "pd.concat(\n",
    "    [\n",
    "        metric_by_horizon(candidate_errors, rmse, \"xgb\"),\n",
    "        metric_by_horizon(naive_errors, rmse, \"naive\"),\n",
    "    ],\n",
    "    axis=1,\n",
    ").plot()"
   ]
  }
 ],
 "metadata": {
  "kernelspec": {
   "display_name": "alt-venv",
   "language": "python",
   "name": "python3"
  },
  "language_info": {
   "codemirror_mode": {
    "name": "ipython",
    "version": 3
   },
   "file_extension": ".py",
   "mimetype": "text/x-python",
   "name": "python",
   "nbconvert_exporter": "python",
   "pygments_lexer": "ipython3",
   "version": "3.12.5"
  }
 },
 "nbformat": 4,
 "nbformat_minor": 2
}
