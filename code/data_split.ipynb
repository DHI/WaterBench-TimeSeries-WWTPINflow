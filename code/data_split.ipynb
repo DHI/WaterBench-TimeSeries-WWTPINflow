{
 "cells": [
  {
   "cell_type": "markdown",
   "metadata": {},
   "source": [
    "# Data loading"
   ]
  },
  {
   "cell_type": "code",
   "execution_count": null,
   "metadata": {},
   "outputs": [],
   "source": [
    "import pandas as pd"
   ]
  },
  {
   "cell_type": "code",
   "execution_count": null,
   "metadata": {},
   "outputs": [],
   "source": [
    "data = pd.read_csv(\"../processed/data.csv\", index_col=0, parse_dates=True)"
   ]
  },
  {
   "cell_type": "markdown",
   "metadata": {},
   "source": [
    "- We will use the subseries that spans from 01/03/2024 to 17/04/2024 because we want to test our models with a long-enough continuous period that experienced significant rainfall."
   ]
  },
  {
   "cell_type": "code",
   "execution_count": 37,
   "metadata": {},
   "outputs": [],
   "source": [
    "start_test_period = pd.Timestamp(day=1, month=3, year=2024, hour=7)\n",
    "end_test_period = pd.Timestamp(day=17, month=4, year=2024, hour=11)\n",
    "\n",
    "test_mask = data.index.to_series().between(\n",
    "    start_test_period, end_test_period, inclusive=\"both\"\n",
    ")\n",
    "train_mask = ~test_mask"
   ]
  }
 ],
 "metadata": {
  "kernelspec": {
   "display_name": "alt-venv",
   "language": "python",
   "name": "python3"
  },
  "language_info": {
   "codemirror_mode": {
    "name": "ipython",
    "version": 3
   },
   "file_extension": ".py",
   "mimetype": "text/x-python",
   "name": "python",
   "nbconvert_exporter": "python",
   "pygments_lexer": "ipython3",
   "version": "3.12.5"
  }
 },
 "nbformat": 4,
 "nbformat_minor": 2
}
