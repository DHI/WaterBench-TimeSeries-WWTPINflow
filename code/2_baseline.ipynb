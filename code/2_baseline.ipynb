{
 "cells": [
  {
   "cell_type": "markdown",
   "metadata": {},
   "source": [
    "# Baseline\n",
    "\n",
    "Setting a simple baseline for a forecasting model with a 12 hours horizon."
   ]
  },
  {
   "cell_type": "code",
   "execution_count": 2,
   "metadata": {},
   "outputs": [],
   "source": [
    "import pandas as pd\n",
    "\n",
    "from typing import List\n",
    "\n",
    "from darts import TimeSeries\n",
    "from darts.models import NaiveMovingAverage\n",
    "\n",
    "from utils import compute_errors, get_rmse, get_mape"
   ]
  },
  {
   "cell_type": "code",
   "execution_count": 3,
   "metadata": {},
   "outputs": [],
   "source": [
    "def assemble_comparison(candidates: List[pd.DataFrame]) -> pd.DataFrame:\n",
    "    \"\"\"Returns a dataframe comparing multiple models by lead time and metric\"\"\"\n",
    "    return (\n",
    "        pd.concat(candidates, axis=0)\n",
    "        .reset_index()\n",
    "        .melt(id_vars=[\"lead_time\", \"model\"], var_name=\"metric\")\n",
    "    )"
   ]
  },
  {
   "cell_type": "code",
   "execution_count": 5,
   "metadata": {},
   "outputs": [],
   "source": [
    "%run 1_data_split.ipynb\n",
    "data: pd.DataFrame = data  # type: ignore # noqa: F821\n",
    "test_mask: pd.Series = test_mask  # type: ignore # noqa: F821"
   ]
  },
  {
   "cell_type": "code",
   "execution_count": 6,
   "metadata": {},
   "outputs": [],
   "source": [
    "test_data = data[test_mask].copy()\n",
    "test_target = TimeSeries.from_series(test_data[\"flow\"])"
   ]
  },
  {
   "cell_type": "code",
   "execution_count": 7,
   "metadata": {},
   "outputs": [],
   "source": [
    "output_chunk_length = 12  # horizon of our forecast\n",
    "\n",
    "n_lags = 6\n",
    "naive = NaiveMovingAverage(input_chunk_length=n_lags)"
   ]
  },
  {
   "cell_type": "markdown",
   "metadata": {},
   "source": [
    "- The model is trained every prediction step using the last 6 observations"
   ]
  },
  {
   "cell_type": "code",
   "execution_count": 8,
   "metadata": {},
   "outputs": [],
   "source": [
    "naive_errors = compute_errors(test_target, naive, output_chunk_length, is_naive=True)"
   ]
  },
  {
   "cell_type": "code",
   "execution_count": 9,
   "metadata": {},
   "outputs": [],
   "source": [
    "df_baseline = pd.DataFrame(\n",
    "    {\n",
    "        \"RMSE\": get_rmse(naive_errors),\n",
    "        \"MAPE\": get_mape(naive_errors),\n",
    "        \"model\": \"baseline\",\n",
    "    }\n",
    ")"
   ]
  }
 ],
 "metadata": {
  "kernelspec": {
   "display_name": "alt-venv",
   "language": "python",
   "name": "python3"
  },
  "language_info": {
   "codemirror_mode": {
    "name": "ipython",
    "version": 3
   },
   "file_extension": ".py",
   "mimetype": "text/x-python",
   "name": "python",
   "nbconvert_exporter": "python",
   "pygments_lexer": "ipython3",
   "version": "3.12.5"
  }
 },
 "nbformat": 4,
 "nbformat_minor": 2
}
