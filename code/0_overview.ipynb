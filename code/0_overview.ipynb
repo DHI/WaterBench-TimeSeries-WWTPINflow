{
   "cells": [
      {
         "cell_type": "markdown",
         "metadata": {},
         "source": [
            "# Overview"
         ]
      },
      {
         "cell_type": "code",
         "execution_count": null,
         "metadata": {},
         "outputs": [],
         "source": [
            "import numpy as np\n",
            "import pandas as pd\n",
            "import matplotlib.pyplot as plt\n",
            "\n",
            "from os.path import abspath\n",
            "\n",
            "from darts import TimeSeries\n",
            "from darts.utils.missing_values import fill_missing_values\n",
            "from darts.utils.statistics import extract_trend_and_seasonality, ModelMode\n",
            "\n",
            "from utils import find_flat_periods"
         ]
      },
      {
         "cell_type": "markdown",
         "metadata": {},
         "source": [
            "## Loading data"
         ]
      },
      {
         "cell_type": "code",
         "execution_count": null,
         "metadata": {},
         "outputs": [],
         "source": [
            "path_to_inflow = \"../observations/wwtp.csv\"\n",
            "path_to_dmi_data = \"../observations/dmi.csv\"\n",
            "path_to_merged_data = \"../processed/data.csv\"\n",
            "\n",
            "inflow = pd.read_csv(abspath(path_to_inflow), parse_dates=True, index_col=0, sep=\";\")\n",
            "inflow.index.name = \"time\"\n",
            "inflow.index = inflow.index.tz_localize(\n",
            "    \"Europe/Copenhagen\", ambiguous=\"NaT\"\n",
            ").tz_convert(\"utc\")"
         ]
      },
      {
         "cell_type": "markdown",
         "metadata": {},
         "source": [
            "DMI always provides data in UTC (https://opendatadocs.dmi.govcloud.dk/en/Data/Climate_Data)"
         ]
      },
      {
         "cell_type": "code",
         "execution_count": null,
         "metadata": {},
         "outputs": [],
         "source": [
            "climate = pd.read_csv(abspath(path_to_dmi_data), parse_dates=True, index_col=0, sep=\",\")\n",
            "climate.index = climate.index.tz_localize(\"utc\")\n",
            "\n",
            "data = inflow.merge(climate, left_index=True, right_index=True, how=\"outer\").iloc[:-1]\n",
            "data.index = data.index.tz_convert(None)"
         ]
      },
      {
         "cell_type": "markdown",
         "metadata": {},
         "source": [
            "## Gaps\n",
            "\n",
            "All instances of flow measurements that are exactly or just larger than 0 are set to nan, as they are considered as missing values."
         ]
      },
      {
         "cell_type": "code",
         "execution_count": null,
         "metadata": {},
         "outputs": [],
         "source": [
            "threshold_flow = 2\n",
            "data[data[\"flow\"] < threshold_flow] = np.nan"
         ]
      },
      {
         "cell_type": "markdown",
         "metadata": {},
         "source": [
            "Also, there are periods that are a flat line, we consider those nans as well"
         ]
      },
      {
         "cell_type": "code",
         "execution_count": null,
         "metadata": {},
         "outputs": [],
         "source": [
            "period_length = 6  # hours\n",
            "min_delta = 5  # flow\n",
            "stable_periods = find_flat_periods(\n",
            "    data[\"flow\"], min_span_length=period_length, min_delta=min_delta\n",
            ")\n",
            "stable_idx = [k for idx in stable_periods for k in list(range(*idx))]\n",
            "\n",
            "data.loc[data.index[stable_idx], \"flow\"] = np.nan"
         ]
      },
      {
         "cell_type": "code",
         "execution_count": null,
         "metadata": {},
         "outputs": [],
         "source": [
            "ts = TimeSeries.from_dataframe(data, freq=\"h\", fill_missing_dates=False)\n",
            "ts = fill_missing_values(ts, method=\"linear\", limit=3, limit_area=\"inside\")"
         ]
      },
      {
         "cell_type": "code",
         "execution_count": null,
         "metadata": {},
         "outputs": [],
         "source": [
            "fig, axes = plt.subplots(ts.n_components, 1, figsize=(20, 10), sharex=\"col\")\n",
            "\n",
            "for i, component in enumerate(ts.components):\n",
            "    gaps = ts[component].gaps(mode=\"any\")\n",
            "    ts[component].plot(ax=axes[i], linewidth=0.8)\n",
            "    for _, row in gaps.iterrows():\n",
            "        axes[i].axvspan(xmin=row[\"gap_start\"], xmax=row[\"gap_end\"], color=\"tomato\")\n",
            "    axes[i].grid(visible=False)\n",
            "    axes[i].set_xlabel(\"\")"
         ]
      },
      {
         "cell_type": "markdown",
         "metadata": {},
         "source": [
            "- Saving data after merging"
         ]
      },
      {
         "cell_type": "code",
         "execution_count": null,
         "metadata": {},
         "outputs": [],
         "source": [
            "ts.to_csv(path_to_merged_data)"
         ]
      },
      {
         "cell_type": "markdown",
         "metadata": {},
         "source": [
            "## Trends"
         ]
      },
      {
         "cell_type": "markdown",
         "metadata": {},
         "source": [
            "The following plot shows the daily pattern of the inflow. Notice that the flow values have been normalized to cancel the effects of a potential yearly trend."
         ]
      },
      {
         "cell_type": "code",
         "execution_count": null,
         "metadata": {},
         "outputs": [],
         "source": [
            "df = data[[\"flow\"]].copy()\n",
            "df[\"hour\"] = df.index.hour\n",
            "\n",
            "df = df.loc[df.index.year == 2024, :].copy()\n",
            "\n",
            "ncols = 6\n",
            "fig, axes = plt.subplots(2, ncols, sharex=True, sharey=True, figsize=(11, 5))\n",
            "\n",
            "for i, month in enumerate(range(1, 13)):\n",
            "    df_i = df.loc[df.index.month == month]\n",
            "    df_i = (df_i - df_i.mean()) / df_i.std()  # Normalizing\n",
            "\n",
            "    daily_pattern = df_i.groupby(\"hour\").mean()\n",
            "\n",
            "    row = i // ncols\n",
            "    col = i - row * ncols\n",
            "    axes[row, col].plot(daily_pattern.index, daily_pattern.values.ravel())\n",
            "    axes[row, col].set_title(f\"month: {month}\")\n",
            "\n",
            "plt.suptitle(\"Daily pattern by month\")\n",
            "plt.tight_layout()"
         ]
      },
      {
         "cell_type": "markdown",
         "metadata": {},
         "source": [
            "## Correlations"
         ]
      },
      {
         "cell_type": "code",
         "execution_count": null,
         "metadata": {},
         "outputs": [],
         "source": [
            "data.corr().style.background_gradient(cmap=\"coolwarm\").format(precision=3)"
         ]
      },
      {
         "cell_type": "markdown",
         "metadata": {},
         "source": [
            "## Precipitation pre-processing\n",
            "\n",
            "As shown above, the hourly accumulated precipitation is highly correlated with the inflow, but the effect of the precipitation to the runoff and eventually the inflow can have slower dynamics. In order to extract all the information contained in the precipitation series, we suggest to create additional features that better capture the delayed effect of the precipitation. For example, we here compute the rolling sum of the precipitation, taking into account the rain measured in the last 24 hours. We invite the reader to test other aggregation periods as well. The figure below compares the daily aggregated rain to the water inflow."
         ]
      },
      {
         "cell_type": "code",
         "execution_count": null,
         "metadata": {},
         "outputs": [],
         "source": [
            "subts = TimeSeries.from_dataframe(\n",
            "    data[[\"flow\", \"acc_precip\"]], freq=\"h\"\n",
            ").longest_contiguous_slice(mode=\"any\")"
         ]
      },
      {
         "cell_type": "code",
         "execution_count": null,
         "metadata": {},
         "outputs": [],
         "source": [
            "trend, seasonality = extract_trend_and_seasonality(\n",
            "    subts[\"flow\"], model=ModelMode.ADDITIVE, method=\"STL\"\n",
            ")\n",
            "\n",
            "n_hours = 24\n",
            "\n",
            "fig, ax = plt.subplots(1, 1, figsize=(10, 3))\n",
            "pd.DataFrame(\n",
            "    {\n",
            "        \"flow (trend)\": trend.values().ravel(),\n",
            "        \"flow (observed)\": subts[\"flow\"].values().ravel(),\n",
            "        \"daily_precip\": subts[\"acc_precip\"].to_series().rolling(n_hours).sum().values,\n",
            "    },\n",
            "    index=subts.time_index,\n",
            ").plot(ax=ax, secondary_y=\"daily_precip\");"
         ]
      }
   ],
   "metadata": {
      "kernelspec": {
         "display_name": ".venv",
         "language": "python",
         "name": "python3"
      },
      "language_info": {
         "codemirror_mode": {
            "name": "ipython",
            "version": 3
         },
         "file_extension": ".py",
         "mimetype": "text/x-python",
         "name": "python",
         "nbconvert_exporter": "python",
         "pygments_lexer": "ipython3",
         "version": "3.12.7"
      }
   },
   "nbformat": 4,
   "nbformat_minor": 2
}
