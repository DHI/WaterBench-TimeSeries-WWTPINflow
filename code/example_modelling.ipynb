{
   "cells": [
      {
         "cell_type": "markdown",
         "metadata": {},
         "source": [
            "# Example\n",
            "Designing a 12 hours ahead water inflow forecast using XGBOOST."
         ]
      },
      {
         "cell_type": "code",
         "execution_count": null,
         "metadata": {},
         "outputs": [
            {
               "name": "stderr",
               "output_type": "stream",
               "text": [
                  "Support for PyTorch based likelihood models not available. To enable them, install \"darts\", \"u8darts[torch]\" or \"u8darts[all]\" (with pip); or \"u8darts-torch\" or \"u8darts-all\" (with conda).\n",
                  "Support for Torch based models not available. To enable them, install \"darts\", \"u8darts[torch]\" or \"u8darts[all]\" (with pip); or \"u8darts-torch\" or \"u8darts-all\" (with conda).\n"
               ]
            }
         ],
         "source": [
            "import numpy as np\n",
            "import pandas as pd\n",
            "import seaborn as sns\n",
            "import matplotlib.pyplot as plt\n",
            "\n",
            "from IPython.display import display\n",
            "from ipywidgets import SelectMultiple, interact, IntProgress, IntSlider\n",
            "\n",
            "from sklearn.feature_selection import RFECV\n",
            "from sklearn.model_selection import TimeSeriesSplit\n",
            "\n",
            "from darts.models import XGBModel\n",
            "\n",
            "from utils import (\n",
            "    compute_errors,\n",
            "    get_rmse,\n",
            "    get_mape,\n",
            "    example_target_and_features,\n",
            "    example_train_subseries,\n",
            "    example_test_series,\n",
            "    visualize_example_measurements,\n",
            "    generate_baseline_df,\n",
            "    assemble_comparison,\n",
            ")"
         ]
      },
      {
         "cell_type": "code",
         "execution_count": null,
         "metadata": {},
         "outputs": [],
         "source": [
            "visualize_example_measurements()"
         ]
      },
      {
         "cell_type": "markdown",
         "metadata": {},
         "source": [
            "## Modelling"
         ]
      },
      {
         "cell_type": "code",
         "execution_count": null,
         "metadata": {},
         "outputs": [],
         "source": [
            "target_var = \"flow\"\n",
            "train_subseries = example_train_subseries()\n",
            "train_target, train_features = example_target_and_features(train_subseries, target_var)\n",
            "\n",
            "n_subseries = len(train_target)\n",
            "n_features = train_features[0].n_components\n",
            "\n",
            "print(f\"Total number of train samples {sum([len(s) for s in train_subseries])}\")"
         ]
      },
      {
         "cell_type": "code",
         "execution_count": 3,
         "metadata": {},
         "outputs": [],
         "source": [
            "output_chunk_length = 12\n",
            "\n",
            "n_ar_lags = 6\n",
            "n_past_lags = 6\n",
            "n_future_lags = (6, output_chunk_length)\n",
            "n_lags = max(n_ar_lags, n_past_lags, n_future_lags[1])\n",
            "\n",
            "encoders = {\"cyclic\": {\"future\": \"month\"}}\n",
            "\n",
            "xgbmodel = XGBModel(\n",
            "    lags=n_ar_lags,\n",
            "    lags_past_covariates=n_past_lags,\n",
            "    lags_future_covariates=n_future_lags,\n",
            "    output_chunk_length=output_chunk_length,\n",
            "    add_encoders=encoders,\n",
            ")"
         ]
      },
      {
         "cell_type": "markdown",
         "metadata": {},
         "source": [
            "We define the `Model` class to better access the model and its estimator (will be used during feature selection)."
         ]
      },
      {
         "cell_type": "code",
         "execution_count": 4,
         "metadata": {},
         "outputs": [
            {
               "name": "stderr",
               "output_type": "stream",
               "text": [
                  "Model supports multi-output; a single estimator forecasts all the horizons and components.\n"
               ]
            }
         ],
         "source": [
            "class Model:\n",
            "    def __init__(self, model: XGBModel):\n",
            "        self.model = model\n",
            "        self.estimator = model.get_estimator(0, 0)\n",
            "\n",
            "\n",
            "candidate = Model(xgbmodel)"
         ]
      },
      {
         "cell_type": "markdown",
         "metadata": {},
         "source": [
            "#### Feature selection\n",
            "- In order to select features I run RFECV on every subseries. I will select the features that were selected in more than half of the subseries."
         ]
      },
      {
         "cell_type": "code",
         "execution_count": 5,
         "metadata": {},
         "outputs": [
            {
               "data": {
                  "application/vnd.jupyter.widget-view+json": {
                     "model_id": "0dff0b9565c44970b4fcc49059938ca8",
                     "version_major": 2,
                     "version_minor": 0
                  },
                  "text/plain": [
                     "IntProgress(value=0, max=9)"
                  ]
               },
               "metadata": {},
               "output_type": "display_data"
            }
         ],
         "source": [
            "pbar = IntProgress(min=0, max=n_subseries)\n",
            "display(pbar)\n",
            "\n",
            "used_features = np.zeros(n_features)\n",
            "original_components = list(train_features[0].components)\n",
            "\n",
            "for target_i, covariates_i in zip(train_target, train_features):\n",
            "    # Here, the estimator is not taking the past into account\n",
            "    selector = RFECV(\n",
            "        candidate.estimator,\n",
            "        step=0.05,\n",
            "        min_features_to_select=5,\n",
            "        cv=TimeSeriesSplit(n_splits=4),\n",
            "    )\n",
            "\n",
            "    # The selection is made taking into account only the next time step\n",
            "    selector = selector.fit(covariates_i.values(), target_i.values())\n",
            "    used_features += selector.support_.astype(int)\n",
            "    pbar.value += 1\n",
            "\n",
            "# We only select features that have been selected in at least half of the subseries\n",
            "index_relevant_features = [\n",
            "    int(i) for i in np.where(used_features / n_subseries >= 0.5)[0]\n",
            "]\n",
            "\n",
            "selected_components = [original_components[i] for i in index_relevant_features]"
         ]
      },
      {
         "cell_type": "code",
         "execution_count": 7,
         "metadata": {},
         "outputs": [],
         "source": [
            "def is_future(target: str) -> bool:\n",
            "    # Function to identify future covariates\n",
            "    future_tags = [\"polyfeature_\", \"dow_\", \"hour_\"]\n",
            "    return any(sub in target for sub in future_tags)\n",
            "\n",
            "\n",
            "feature_names = train_features[0].components\n",
            "all_past_components = [c for c in feature_names if not is_future(c)]\n",
            "all_future_components = [c for c in feature_names if is_future(c)]\n",
            "past_components = [fn for fn in selected_components if fn in all_past_components]\n",
            "future_components = [fn for fn in selected_components if fn in all_future_components]\n",
            "\n",
            "assert len(past_components) > 0\n",
            "assert len(future_components) > 0\n",
            "\n",
            "test_ts = example_test_series()\n",
            "test_target, test_covariates = example_target_and_features(test_ts, target_var)\n",
            "\n",
            "selected_past_covariates = [s[past_components] for s in train_features]\n",
            "selected_past_covariates_test = test_covariates[past_components]\n",
            "\n",
            "selected_future_covariates = [s[future_components] for s in train_features]\n",
            "selected_future_covariates_test = test_covariates[future_components]"
         ]
      },
      {
         "cell_type": "code",
         "execution_count": 8,
         "metadata": {},
         "outputs": [
            {
               "data": {
                  "text/plain": [
                     "XGBModel(lags=6, lags_past_covariates=6, lags_future_covariates=(6, 12), output_chunk_length=12, output_chunk_shift=0, add_encoders={'cyclic': {'future': 'month'}}, likelihood=None, quantiles=None, random_state=None, multi_models=True, use_static_covariates=True)"
                  ]
               },
               "execution_count": 8,
               "metadata": {},
               "output_type": "execute_result"
            }
         ],
         "source": [
            "candidate.model.fit(\n",
            "    train_target,\n",
            "    future_covariates=selected_future_covariates,\n",
            "    past_covariates=selected_past_covariates,\n",
            ")"
         ]
      },
      {
         "cell_type": "code",
         "execution_count": 9,
         "metadata": {},
         "outputs": [
            {
               "name": "stdout",
               "output_type": "stream",
               "text": [
                  "20 354\n"
               ]
            }
         ],
         "source": [
            "print(len(selected_components), candidate.estimator.n_features_in_)"
         ]
      },
      {
         "cell_type": "markdown",
         "metadata": {},
         "source": [
            "Despite the number of selected features is relatively small, once we include their lags, the number of features greatly increases."
         ]
      },
      {
         "cell_type": "markdown",
         "metadata": {},
         "source": [
            "## Testing"
         ]
      },
      {
         "cell_type": "code",
         "execution_count": 10,
         "metadata": {},
         "outputs": [
            {
               "data": {
                  "application/vnd.jupyter.widget-view+json": {
                     "model_id": "8f1ec5c02d414961a6a2704d9237e666",
                     "version_major": 2,
                     "version_minor": 0
                  },
                  "text/plain": [
                     "interactive(children=(SelectMultiple(description='Features to compare', index=(0,), options=('mean_radiation',…"
                  ]
               },
               "metadata": {},
               "output_type": "display_data"
            }
         ],
         "source": [
            "feature_i = SelectMultiple(\n",
            "    options=past_components,\n",
            "    value=past_components[:1],\n",
            "    description=\"Features to compare\",\n",
            ")\n",
            "\n",
            "nudger = IntSlider(min=-12, max=12, value=0, description=\"Nudge pred. start\")\n",
            "\n",
            "\n",
            "@interact(features=feature_i, nudge=nudger)\n",
            "def plot_forecast(features, nudge):\n",
            "    arbitrary_breakpoints = [400, 650, 750, 810, 968]  # Needs to be above n_lags\n",
            "    fig, axes = plt.subplots(\n",
            "        2, len(arbitrary_breakpoints), figsize=(20, 5), sharey=\"row\", sharex=\"col\"\n",
            "    )\n",
            "    for i, n_split in enumerate(arbitrary_breakpoints):\n",
            "        time_axis = test_target.slice(\n",
            "            test_target.time_index[n_split - n_lags],\n",
            "            test_target.time_index[n_split + output_chunk_length],\n",
            "        ).time_index\n",
            "        minx = time_axis.min()\n",
            "        maxx = time_axis.max()\n",
            "\n",
            "        test_in, test_out = test_target.split_before(n_split + nudge)\n",
            "\n",
            "        predicted_inflow = candidate.model.predict(\n",
            "            series=test_in,\n",
            "            n=output_chunk_length,\n",
            "            past_covariates=selected_past_covariates_test,\n",
            "            future_covariates=selected_future_covariates_test,\n",
            "        )\n",
            "\n",
            "        actual_inflow = test_target.slice(start_ts=minx, end_ts=maxx)\n",
            "\n",
            "        predicted_inflow.plot(label=\"predicted\", ax=axes[0, i])\n",
            "        actual_inflow.plot(label=\"actual\", ax=axes[0, i])\n",
            "\n",
            "        selected_past_covariates_test[list(features)].slice_intersect(\n",
            "            actual_inflow\n",
            "        ).plot(ax=axes[1, i])\n",
            "\n",
            "        axes[0, i].axvline(x=test_out.time_index[0], c=\"red\", linestyle=\"dashed\")\n",
            "        axes[1, i].axvline(x=test_out.time_index[0], c=\"red\", linestyle=\"dashed\")\n",
            "\n",
            "        axes[0, i].set_xlim(minx, maxx)\n",
            "        axes[1, i].set_xlim(minx, maxx)\n",
            "\n",
            "    plt.tight_layout()\n"
         ]
      },
      {
         "cell_type": "markdown",
         "metadata": {},
         "source": [
            "- At every step of the test series, we forecast the next 12 hours and compare."
         ]
      },
      {
         "cell_type": "code",
         "execution_count": 11,
         "metadata": {},
         "outputs": [],
         "source": [
            "candidate_errors = compute_errors(\n",
            "    test_target,\n",
            "    candidate.model,\n",
            "    output_chunk_length,\n",
            "    past_covariates=selected_past_covariates_test,\n",
            "    future_covariates=selected_future_covariates_test,\n",
            ")"
         ]
      },
      {
         "cell_type": "code",
         "execution_count": 12,
         "metadata": {},
         "outputs": [],
         "source": [
            "df_baseline = generate_baseline_df(test_target, n_ar_lags, output_chunk_length)\n",
            "df_candidate = pd.DataFrame(\n",
            "    {\n",
            "        \"RMSE\": get_rmse(candidate_errors),\n",
            "        \"MAPE\": get_mape(candidate_errors),\n",
            "        \"model\": \"xgb\",\n",
            "    }\n",
            ")"
         ]
      },
      {
         "cell_type": "code",
         "execution_count": 13,
         "metadata": {},
         "outputs": [
            {
               "data": {
                  "image/png": "[encoded data removed]",
                  "text/plain": [
                     "<Figure size 1108.12x500 with 2 Axes>"
                  ]
               },
               "metadata": {},
               "output_type": "display_data"
            }
         ],
         "source": [
            "comparison = assemble_comparison([df_baseline, df_candidate])\n",
            "\n",
            "sns.lmplot(\n",
            "    data=comparison,\n",
            "    x=\"lead_time\",\n",
            "    y=\"value\",\n",
            "    col=\"metric\",\n",
            "    hue=\"model\",\n",
            "    fit_reg=False,\n",
            "    facet_kws=dict(sharey=False),\n",
            ");"
         ]
      }
   ],
   "metadata": {
      "kernelspec": {
         "display_name": ".venv",
         "language": "python",
         "name": "python3"
      },
      "language_info": {
         "codemirror_mode": {
            "name": "ipython",
            "version": 3
         },
         "file_extension": ".py",
         "mimetype": "text/x-python",
         "name": "python",
         "nbconvert_exporter": "python",
         "pygments_lexer": "ipython3",
         "version": "3.12.5"
      }
   },
   "nbformat": 4,
   "nbformat_minor": 2
}
